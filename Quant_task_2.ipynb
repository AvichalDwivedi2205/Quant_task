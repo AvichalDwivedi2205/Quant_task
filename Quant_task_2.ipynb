{
  "cells": [
    {
      "cell_type": "code",
      "execution_count": null,
      "metadata": {
        "id": "VekZsxTpaevf"
      },
      "outputs": [],
      "source": [
        "import pandas as pd\n",
        "import numpy as np\n",
        "import plotly.express as px\n",
        "import matplotlib\n",
        "import matplotlib.pyplot as plt\n",
        "import seaborn as sns\n",
        "import plotly.graph_objects as go"
      ]
    },
    {
      "cell_type": "code",
      "execution_count": null,
      "metadata": {
        "colab": {
          "base_uri": "https://localhost:8080/"
        },
        "id": "jb1iQv1Zahw1",
        "outputId": "565a31e5-f9d8-49df-bb57-15d73e2cb8cc"
      },
      "outputs": [
        {
          "output_type": "stream",
          "name": "stdout",
          "text": [
            "Requirement already satisfied: scikit-learn in /usr/local/lib/python3.10/dist-packages (1.3.2)\n",
            "Requirement already satisfied: numpy<2.0,>=1.17.3 in /usr/local/lib/python3.10/dist-packages (from scikit-learn) (1.26.4)\n",
            "Requirement already satisfied: scipy>=1.5.0 in /usr/local/lib/python3.10/dist-packages (from scikit-learn) (1.13.1)\n",
            "Requirement already satisfied: joblib>=1.1.1 in /usr/local/lib/python3.10/dist-packages (from scikit-learn) (1.4.2)\n",
            "Requirement already satisfied: threadpoolctl>=2.0.0 in /usr/local/lib/python3.10/dist-packages (from scikit-learn) (3.5.0)\n"
          ]
        }
      ],
      "source": [
        "!pip install scikit-learn"
      ]
    },
    {
      "cell_type": "code",
      "execution_count": null,
      "metadata": {
        "id": "BjQudGrQa4V-"
      },
      "outputs": [],
      "source": [
        "boston = pd.read_csv('BostonHousing.csv')"
      ]
    },
    {
      "cell_type": "code",
      "execution_count": null,
      "metadata": {
        "colab": {
          "base_uri": "https://localhost:8080/",
          "height": 423
        },
        "id": "AbbfqZE-a_fw",
        "outputId": "03990392-c35c-4754-a7d3-beb1056de7d6"
      },
      "outputs": [
        {
          "output_type": "execute_result",
          "data": {
            "text/plain": [
              "        crim    zn  indus  chas    nox     rm   age     dis  rad  tax  \\\n",
              "0    0.00632  18.0   2.31     0  0.538  6.575  65.2  4.0900    1  296   \n",
              "1    0.02731   0.0   7.07     0  0.469  6.421  78.9  4.9671    2  242   \n",
              "2    0.02729   0.0   7.07     0  0.469  7.185  61.1  4.9671    2  242   \n",
              "3    0.03237   0.0   2.18     0  0.458  6.998  45.8  6.0622    3  222   \n",
              "4    0.06905   0.0   2.18     0  0.458  7.147  54.2  6.0622    3  222   \n",
              "..       ...   ...    ...   ...    ...    ...   ...     ...  ...  ...   \n",
              "501  0.06263   0.0  11.93     0  0.573  6.593  69.1  2.4786    1  273   \n",
              "502  0.04527   0.0  11.93     0  0.573  6.120  76.7  2.2875    1  273   \n",
              "503  0.06076   0.0  11.93     0  0.573  6.976  91.0  2.1675    1  273   \n",
              "504  0.10959   0.0  11.93     0  0.573  6.794  89.3  2.3889    1  273   \n",
              "505  0.04741   0.0  11.93     0  0.573  6.030  80.8  2.5050    1  273   \n",
              "\n",
              "     ptratio       b  lstat  medv  \n",
              "0       15.3  396.90   4.98  24.0  \n",
              "1       17.8  396.90   9.14  21.6  \n",
              "2       17.8  392.83   4.03  34.7  \n",
              "3       18.7  394.63   2.94  33.4  \n",
              "4       18.7  396.90   5.33  36.2  \n",
              "..       ...     ...    ...   ...  \n",
              "501     21.0  391.99   9.67  22.4  \n",
              "502     21.0  396.90   9.08  20.6  \n",
              "503     21.0  396.90   5.64  23.9  \n",
              "504     21.0  393.45   6.48  22.0  \n",
              "505     21.0  396.90   7.88  11.9  \n",
              "\n",
              "[506 rows x 14 columns]"
            ],
            "text/html": [
              "\n",
              "  <div id=\"df-5b0e01c9-12b1-403a-8ca4-d55ebcf1880e\" class=\"colab-df-container\">\n",
              "    <div>\n",
              "<style scoped>\n",
              "    .dataframe tbody tr th:only-of-type {\n",
              "        vertical-align: middle;\n",
              "    }\n",
              "\n",
              "    .dataframe tbody tr th {\n",
              "        vertical-align: top;\n",
              "    }\n",
              "\n",
              "    .dataframe thead th {\n",
              "        text-align: right;\n",
              "    }\n",
              "</style>\n",
              "<table border=\"1\" class=\"dataframe\">\n",
              "  <thead>\n",
              "    <tr style=\"text-align: right;\">\n",
              "      <th></th>\n",
              "      <th>crim</th>\n",
              "      <th>zn</th>\n",
              "      <th>indus</th>\n",
              "      <th>chas</th>\n",
              "      <th>nox</th>\n",
              "      <th>rm</th>\n",
              "      <th>age</th>\n",
              "      <th>dis</th>\n",
              "      <th>rad</th>\n",
              "      <th>tax</th>\n",
              "      <th>ptratio</th>\n",
              "      <th>b</th>\n",
              "      <th>lstat</th>\n",
              "      <th>medv</th>\n",
              "    </tr>\n",
              "  </thead>\n",
              "  <tbody>\n",
              "    <tr>\n",
              "      <th>0</th>\n",
              "      <td>0.00632</td>\n",
              "      <td>18.0</td>\n",
              "      <td>2.31</td>\n",
              "      <td>0</td>\n",
              "      <td>0.538</td>\n",
              "      <td>6.575</td>\n",
              "      <td>65.2</td>\n",
              "      <td>4.0900</td>\n",
              "      <td>1</td>\n",
              "      <td>296</td>\n",
              "      <td>15.3</td>\n",
              "      <td>396.90</td>\n",
              "      <td>4.98</td>\n",
              "      <td>24.0</td>\n",
              "    </tr>\n",
              "    <tr>\n",
              "      <th>1</th>\n",
              "      <td>0.02731</td>\n",
              "      <td>0.0</td>\n",
              "      <td>7.07</td>\n",
              "      <td>0</td>\n",
              "      <td>0.469</td>\n",
              "      <td>6.421</td>\n",
              "      <td>78.9</td>\n",
              "      <td>4.9671</td>\n",
              "      <td>2</td>\n",
              "      <td>242</td>\n",
              "      <td>17.8</td>\n",
              "      <td>396.90</td>\n",
              "      <td>9.14</td>\n",
              "      <td>21.6</td>\n",
              "    </tr>\n",
              "    <tr>\n",
              "      <th>2</th>\n",
              "      <td>0.02729</td>\n",
              "      <td>0.0</td>\n",
              "      <td>7.07</td>\n",
              "      <td>0</td>\n",
              "      <td>0.469</td>\n",
              "      <td>7.185</td>\n",
              "      <td>61.1</td>\n",
              "      <td>4.9671</td>\n",
              "      <td>2</td>\n",
              "      <td>242</td>\n",
              "      <td>17.8</td>\n",
              "      <td>392.83</td>\n",
              "      <td>4.03</td>\n",
              "      <td>34.7</td>\n",
              "    </tr>\n",
              "    <tr>\n",
              "      <th>3</th>\n",
              "      <td>0.03237</td>\n",
              "      <td>0.0</td>\n",
              "      <td>2.18</td>\n",
              "      <td>0</td>\n",
              "      <td>0.458</td>\n",
              "      <td>6.998</td>\n",
              "      <td>45.8</td>\n",
              "      <td>6.0622</td>\n",
              "      <td>3</td>\n",
              "      <td>222</td>\n",
              "      <td>18.7</td>\n",
              "      <td>394.63</td>\n",
              "      <td>2.94</td>\n",
              "      <td>33.4</td>\n",
              "    </tr>\n",
              "    <tr>\n",
              "      <th>4</th>\n",
              "      <td>0.06905</td>\n",
              "      <td>0.0</td>\n",
              "      <td>2.18</td>\n",
              "      <td>0</td>\n",
              "      <td>0.458</td>\n",
              "      <td>7.147</td>\n",
              "      <td>54.2</td>\n",
              "      <td>6.0622</td>\n",
              "      <td>3</td>\n",
              "      <td>222</td>\n",
              "      <td>18.7</td>\n",
              "      <td>396.90</td>\n",
              "      <td>5.33</td>\n",
              "      <td>36.2</td>\n",
              "    </tr>\n",
              "    <tr>\n",
              "      <th>...</th>\n",
              "      <td>...</td>\n",
              "      <td>...</td>\n",
              "      <td>...</td>\n",
              "      <td>...</td>\n",
              "      <td>...</td>\n",
              "      <td>...</td>\n",
              "      <td>...</td>\n",
              "      <td>...</td>\n",
              "      <td>...</td>\n",
              "      <td>...</td>\n",
              "      <td>...</td>\n",
              "      <td>...</td>\n",
              "      <td>...</td>\n",
              "      <td>...</td>\n",
              "    </tr>\n",
              "    <tr>\n",
              "      <th>501</th>\n",
              "      <td>0.06263</td>\n",
              "      <td>0.0</td>\n",
              "      <td>11.93</td>\n",
              "      <td>0</td>\n",
              "      <td>0.573</td>\n",
              "      <td>6.593</td>\n",
              "      <td>69.1</td>\n",
              "      <td>2.4786</td>\n",
              "      <td>1</td>\n",
              "      <td>273</td>\n",
              "      <td>21.0</td>\n",
              "      <td>391.99</td>\n",
              "      <td>9.67</td>\n",
              "      <td>22.4</td>\n",
              "    </tr>\n",
              "    <tr>\n",
              "      <th>502</th>\n",
              "      <td>0.04527</td>\n",
              "      <td>0.0</td>\n",
              "      <td>11.93</td>\n",
              "      <td>0</td>\n",
              "      <td>0.573</td>\n",
              "      <td>6.120</td>\n",
              "      <td>76.7</td>\n",
              "      <td>2.2875</td>\n",
              "      <td>1</td>\n",
              "      <td>273</td>\n",
              "      <td>21.0</td>\n",
              "      <td>396.90</td>\n",
              "      <td>9.08</td>\n",
              "      <td>20.6</td>\n",
              "    </tr>\n",
              "    <tr>\n",
              "      <th>503</th>\n",
              "      <td>0.06076</td>\n",
              "      <td>0.0</td>\n",
              "      <td>11.93</td>\n",
              "      <td>0</td>\n",
              "      <td>0.573</td>\n",
              "      <td>6.976</td>\n",
              "      <td>91.0</td>\n",
              "      <td>2.1675</td>\n",
              "      <td>1</td>\n",
              "      <td>273</td>\n",
              "      <td>21.0</td>\n",
              "      <td>396.90</td>\n",
              "      <td>5.64</td>\n",
              "      <td>23.9</td>\n",
              "    </tr>\n",
              "    <tr>\n",
              "      <th>504</th>\n",
              "      <td>0.10959</td>\n",
              "      <td>0.0</td>\n",
              "      <td>11.93</td>\n",
              "      <td>0</td>\n",
              "      <td>0.573</td>\n",
              "      <td>6.794</td>\n",
              "      <td>89.3</td>\n",
              "      <td>2.3889</td>\n",
              "      <td>1</td>\n",
              "      <td>273</td>\n",
              "      <td>21.0</td>\n",
              "      <td>393.45</td>\n",
              "      <td>6.48</td>\n",
              "      <td>22.0</td>\n",
              "    </tr>\n",
              "    <tr>\n",
              "      <th>505</th>\n",
              "      <td>0.04741</td>\n",
              "      <td>0.0</td>\n",
              "      <td>11.93</td>\n",
              "      <td>0</td>\n",
              "      <td>0.573</td>\n",
              "      <td>6.030</td>\n",
              "      <td>80.8</td>\n",
              "      <td>2.5050</td>\n",
              "      <td>1</td>\n",
              "      <td>273</td>\n",
              "      <td>21.0</td>\n",
              "      <td>396.90</td>\n",
              "      <td>7.88</td>\n",
              "      <td>11.9</td>\n",
              "    </tr>\n",
              "  </tbody>\n",
              "</table>\n",
              "<p>506 rows × 14 columns</p>\n",
              "</div>\n",
              "    <div class=\"colab-df-buttons\">\n",
              "\n",
              "  <div class=\"colab-df-container\">\n",
              "    <button class=\"colab-df-convert\" onclick=\"convertToInteractive('df-5b0e01c9-12b1-403a-8ca4-d55ebcf1880e')\"\n",
              "            title=\"Convert this dataframe to an interactive table.\"\n",
              "            style=\"display:none;\">\n",
              "\n",
              "  <svg xmlns=\"http://www.w3.org/2000/svg\" height=\"24px\" viewBox=\"0 -960 960 960\">\n",
              "    <path d=\"M120-120v-720h720v720H120Zm60-500h600v-160H180v160Zm220 220h160v-160H400v160Zm0 220h160v-160H400v160ZM180-400h160v-160H180v160Zm440 0h160v-160H620v160ZM180-180h160v-160H180v160Zm440 0h160v-160H620v160Z\"/>\n",
              "  </svg>\n",
              "    </button>\n",
              "\n",
              "  <style>\n",
              "    .colab-df-container {\n",
              "      display:flex;\n",
              "      gap: 12px;\n",
              "    }\n",
              "\n",
              "    .colab-df-convert {\n",
              "      background-color: #E8F0FE;\n",
              "      border: none;\n",
              "      border-radius: 50%;\n",
              "      cursor: pointer;\n",
              "      display: none;\n",
              "      fill: #1967D2;\n",
              "      height: 32px;\n",
              "      padding: 0 0 0 0;\n",
              "      width: 32px;\n",
              "    }\n",
              "\n",
              "    .colab-df-convert:hover {\n",
              "      background-color: #E2EBFA;\n",
              "      box-shadow: 0px 1px 2px rgba(60, 64, 67, 0.3), 0px 1px 3px 1px rgba(60, 64, 67, 0.15);\n",
              "      fill: #174EA6;\n",
              "    }\n",
              "\n",
              "    .colab-df-buttons div {\n",
              "      margin-bottom: 4px;\n",
              "    }\n",
              "\n",
              "    [theme=dark] .colab-df-convert {\n",
              "      background-color: #3B4455;\n",
              "      fill: #D2E3FC;\n",
              "    }\n",
              "\n",
              "    [theme=dark] .colab-df-convert:hover {\n",
              "      background-color: #434B5C;\n",
              "      box-shadow: 0px 1px 3px 1px rgba(0, 0, 0, 0.15);\n",
              "      filter: drop-shadow(0px 1px 2px rgba(0, 0, 0, 0.3));\n",
              "      fill: #FFFFFF;\n",
              "    }\n",
              "  </style>\n",
              "\n",
              "    <script>\n",
              "      const buttonEl =\n",
              "        document.querySelector('#df-5b0e01c9-12b1-403a-8ca4-d55ebcf1880e button.colab-df-convert');\n",
              "      buttonEl.style.display =\n",
              "        google.colab.kernel.accessAllowed ? 'block' : 'none';\n",
              "\n",
              "      async function convertToInteractive(key) {\n",
              "        const element = document.querySelector('#df-5b0e01c9-12b1-403a-8ca4-d55ebcf1880e');\n",
              "        const dataTable =\n",
              "          await google.colab.kernel.invokeFunction('convertToInteractive',\n",
              "                                                    [key], {});\n",
              "        if (!dataTable) return;\n",
              "\n",
              "        const docLinkHtml = 'Like what you see? Visit the ' +\n",
              "          '<a target=\"_blank\" href=https://colab.research.google.com/notebooks/data_table.ipynb>data table notebook</a>'\n",
              "          + ' to learn more about interactive tables.';\n",
              "        element.innerHTML = '';\n",
              "        dataTable['output_type'] = 'display_data';\n",
              "        await google.colab.output.renderOutput(dataTable, element);\n",
              "        const docLink = document.createElement('div');\n",
              "        docLink.innerHTML = docLinkHtml;\n",
              "        element.appendChild(docLink);\n",
              "      }\n",
              "    </script>\n",
              "  </div>\n",
              "\n",
              "\n",
              "<div id=\"df-021799f4-61f5-4c7d-b4e8-f03f75c24a1c\">\n",
              "  <button class=\"colab-df-quickchart\" onclick=\"quickchart('df-021799f4-61f5-4c7d-b4e8-f03f75c24a1c')\"\n",
              "            title=\"Suggest charts\"\n",
              "            style=\"display:none;\">\n",
              "\n",
              "<svg xmlns=\"http://www.w3.org/2000/svg\" height=\"24px\"viewBox=\"0 0 24 24\"\n",
              "     width=\"24px\">\n",
              "    <g>\n",
              "        <path d=\"M19 3H5c-1.1 0-2 .9-2 2v14c0 1.1.9 2 2 2h14c1.1 0 2-.9 2-2V5c0-1.1-.9-2-2-2zM9 17H7v-7h2v7zm4 0h-2V7h2v10zm4 0h-2v-4h2v4z\"/>\n",
              "    </g>\n",
              "</svg>\n",
              "  </button>\n",
              "\n",
              "<style>\n",
              "  .colab-df-quickchart {\n",
              "      --bg-color: #E8F0FE;\n",
              "      --fill-color: #1967D2;\n",
              "      --hover-bg-color: #E2EBFA;\n",
              "      --hover-fill-color: #174EA6;\n",
              "      --disabled-fill-color: #AAA;\n",
              "      --disabled-bg-color: #DDD;\n",
              "  }\n",
              "\n",
              "  [theme=dark] .colab-df-quickchart {\n",
              "      --bg-color: #3B4455;\n",
              "      --fill-color: #D2E3FC;\n",
              "      --hover-bg-color: #434B5C;\n",
              "      --hover-fill-color: #FFFFFF;\n",
              "      --disabled-bg-color: #3B4455;\n",
              "      --disabled-fill-color: #666;\n",
              "  }\n",
              "\n",
              "  .colab-df-quickchart {\n",
              "    background-color: var(--bg-color);\n",
              "    border: none;\n",
              "    border-radius: 50%;\n",
              "    cursor: pointer;\n",
              "    display: none;\n",
              "    fill: var(--fill-color);\n",
              "    height: 32px;\n",
              "    padding: 0;\n",
              "    width: 32px;\n",
              "  }\n",
              "\n",
              "  .colab-df-quickchart:hover {\n",
              "    background-color: var(--hover-bg-color);\n",
              "    box-shadow: 0 1px 2px rgba(60, 64, 67, 0.3), 0 1px 3px 1px rgba(60, 64, 67, 0.15);\n",
              "    fill: var(--button-hover-fill-color);\n",
              "  }\n",
              "\n",
              "  .colab-df-quickchart-complete:disabled,\n",
              "  .colab-df-quickchart-complete:disabled:hover {\n",
              "    background-color: var(--disabled-bg-color);\n",
              "    fill: var(--disabled-fill-color);\n",
              "    box-shadow: none;\n",
              "  }\n",
              "\n",
              "  .colab-df-spinner {\n",
              "    border: 2px solid var(--fill-color);\n",
              "    border-color: transparent;\n",
              "    border-bottom-color: var(--fill-color);\n",
              "    animation:\n",
              "      spin 1s steps(1) infinite;\n",
              "  }\n",
              "\n",
              "  @keyframes spin {\n",
              "    0% {\n",
              "      border-color: transparent;\n",
              "      border-bottom-color: var(--fill-color);\n",
              "      border-left-color: var(--fill-color);\n",
              "    }\n",
              "    20% {\n",
              "      border-color: transparent;\n",
              "      border-left-color: var(--fill-color);\n",
              "      border-top-color: var(--fill-color);\n",
              "    }\n",
              "    30% {\n",
              "      border-color: transparent;\n",
              "      border-left-color: var(--fill-color);\n",
              "      border-top-color: var(--fill-color);\n",
              "      border-right-color: var(--fill-color);\n",
              "    }\n",
              "    40% {\n",
              "      border-color: transparent;\n",
              "      border-right-color: var(--fill-color);\n",
              "      border-top-color: var(--fill-color);\n",
              "    }\n",
              "    60% {\n",
              "      border-color: transparent;\n",
              "      border-right-color: var(--fill-color);\n",
              "    }\n",
              "    80% {\n",
              "      border-color: transparent;\n",
              "      border-right-color: var(--fill-color);\n",
              "      border-bottom-color: var(--fill-color);\n",
              "    }\n",
              "    90% {\n",
              "      border-color: transparent;\n",
              "      border-bottom-color: var(--fill-color);\n",
              "    }\n",
              "  }\n",
              "</style>\n",
              "\n",
              "  <script>\n",
              "    async function quickchart(key) {\n",
              "      const quickchartButtonEl =\n",
              "        document.querySelector('#' + key + ' button');\n",
              "      quickchartButtonEl.disabled = true;  // To prevent multiple clicks.\n",
              "      quickchartButtonEl.classList.add('colab-df-spinner');\n",
              "      try {\n",
              "        const charts = await google.colab.kernel.invokeFunction(\n",
              "            'suggestCharts', [key], {});\n",
              "      } catch (error) {\n",
              "        console.error('Error during call to suggestCharts:', error);\n",
              "      }\n",
              "      quickchartButtonEl.classList.remove('colab-df-spinner');\n",
              "      quickchartButtonEl.classList.add('colab-df-quickchart-complete');\n",
              "    }\n",
              "    (() => {\n",
              "      let quickchartButtonEl =\n",
              "        document.querySelector('#df-021799f4-61f5-4c7d-b4e8-f03f75c24a1c button');\n",
              "      quickchartButtonEl.style.display =\n",
              "        google.colab.kernel.accessAllowed ? 'block' : 'none';\n",
              "    })();\n",
              "  </script>\n",
              "</div>\n",
              "\n",
              "  <div id=\"id_99cd78be-bfbf-459b-b7a2-afed38ab2fdd\">\n",
              "    <style>\n",
              "      .colab-df-generate {\n",
              "        background-color: #E8F0FE;\n",
              "        border: none;\n",
              "        border-radius: 50%;\n",
              "        cursor: pointer;\n",
              "        display: none;\n",
              "        fill: #1967D2;\n",
              "        height: 32px;\n",
              "        padding: 0 0 0 0;\n",
              "        width: 32px;\n",
              "      }\n",
              "\n",
              "      .colab-df-generate:hover {\n",
              "        background-color: #E2EBFA;\n",
              "        box-shadow: 0px 1px 2px rgba(60, 64, 67, 0.3), 0px 1px 3px 1px rgba(60, 64, 67, 0.15);\n",
              "        fill: #174EA6;\n",
              "      }\n",
              "\n",
              "      [theme=dark] .colab-df-generate {\n",
              "        background-color: #3B4455;\n",
              "        fill: #D2E3FC;\n",
              "      }\n",
              "\n",
              "      [theme=dark] .colab-df-generate:hover {\n",
              "        background-color: #434B5C;\n",
              "        box-shadow: 0px 1px 3px 1px rgba(0, 0, 0, 0.15);\n",
              "        filter: drop-shadow(0px 1px 2px rgba(0, 0, 0, 0.3));\n",
              "        fill: #FFFFFF;\n",
              "      }\n",
              "    </style>\n",
              "    <button class=\"colab-df-generate\" onclick=\"generateWithVariable('boston')\"\n",
              "            title=\"Generate code using this dataframe.\"\n",
              "            style=\"display:none;\">\n",
              "\n",
              "  <svg xmlns=\"http://www.w3.org/2000/svg\" height=\"24px\"viewBox=\"0 0 24 24\"\n",
              "       width=\"24px\">\n",
              "    <path d=\"M7,19H8.4L18.45,9,17,7.55,7,17.6ZM5,21V16.75L18.45,3.32a2,2,0,0,1,2.83,0l1.4,1.43a1.91,1.91,0,0,1,.58,1.4,1.91,1.91,0,0,1-.58,1.4L9.25,21ZM18.45,9,17,7.55Zm-12,3A5.31,5.31,0,0,0,4.9,8.1,5.31,5.31,0,0,0,1,6.5,5.31,5.31,0,0,0,4.9,4.9,5.31,5.31,0,0,0,6.5,1,5.31,5.31,0,0,0,8.1,4.9,5.31,5.31,0,0,0,12,6.5,5.46,5.46,0,0,0,6.5,12Z\"/>\n",
              "  </svg>\n",
              "    </button>\n",
              "    <script>\n",
              "      (() => {\n",
              "      const buttonEl =\n",
              "        document.querySelector('#id_99cd78be-bfbf-459b-b7a2-afed38ab2fdd button.colab-df-generate');\n",
              "      buttonEl.style.display =\n",
              "        google.colab.kernel.accessAllowed ? 'block' : 'none';\n",
              "\n",
              "      buttonEl.onclick = () => {\n",
              "        google.colab.notebook.generateWithVariable('boston');\n",
              "      }\n",
              "      })();\n",
              "    </script>\n",
              "  </div>\n",
              "\n",
              "    </div>\n",
              "  </div>\n"
            ],
            "application/vnd.google.colaboratory.intrinsic+json": {
              "type": "dataframe",
              "variable_name": "boston",
              "summary": "{\n  \"name\": \"boston\",\n  \"rows\": 506,\n  \"fields\": [\n    {\n      \"column\": \"crim\",\n      \"properties\": {\n        \"dtype\": \"number\",\n        \"std\": 8.60154510533249,\n        \"min\": 0.00632,\n        \"max\": 88.9762,\n        \"num_unique_values\": 504,\n        \"samples\": [\n          0.09178,\n          0.05644,\n          0.10574\n        ],\n        \"semantic_type\": \"\",\n        \"description\": \"\"\n      }\n    },\n    {\n      \"column\": \"zn\",\n      \"properties\": {\n        \"dtype\": \"number\",\n        \"std\": 23.32245299451514,\n        \"min\": 0.0,\n        \"max\": 100.0,\n        \"num_unique_values\": 26,\n        \"samples\": [\n          25.0,\n          30.0,\n          18.0\n        ],\n        \"semantic_type\": \"\",\n        \"description\": \"\"\n      }\n    },\n    {\n      \"column\": \"indus\",\n      \"properties\": {\n        \"dtype\": \"number\",\n        \"std\": 6.860352940897585,\n        \"min\": 0.46,\n        \"max\": 27.74,\n        \"num_unique_values\": 76,\n        \"samples\": [\n          8.14,\n          1.47,\n          1.22\n        ],\n        \"semantic_type\": \"\",\n        \"description\": \"\"\n      }\n    },\n    {\n      \"column\": \"chas\",\n      \"properties\": {\n        \"dtype\": \"number\",\n        \"std\": 0,\n        \"min\": 0,\n        \"max\": 1,\n        \"num_unique_values\": 2,\n        \"samples\": [\n          1,\n          0\n        ],\n        \"semantic_type\": \"\",\n        \"description\": \"\"\n      }\n    },\n    {\n      \"column\": \"nox\",\n      \"properties\": {\n        \"dtype\": \"number\",\n        \"std\": 0.11587767566755595,\n        \"min\": 0.385,\n        \"max\": 0.871,\n        \"num_unique_values\": 81,\n        \"samples\": [\n          0.401,\n          0.538\n        ],\n        \"semantic_type\": \"\",\n        \"description\": \"\"\n      }\n    },\n    {\n      \"column\": \"rm\",\n      \"properties\": {\n        \"dtype\": \"number\",\n        \"std\": 0.7055867751520439,\n        \"min\": 3.561,\n        \"max\": 8.78,\n        \"num_unique_values\": 441,\n        \"samples\": [\n          6.389,\n          6.12\n        ],\n        \"semantic_type\": \"\",\n        \"description\": \"\"\n      }\n    },\n    {\n      \"column\": \"age\",\n      \"properties\": {\n        \"dtype\": \"number\",\n        \"std\": 28.148861406903617,\n        \"min\": 2.9,\n        \"max\": 100.0,\n        \"num_unique_values\": 356,\n        \"samples\": [\n          51.8,\n          33.8\n        ],\n        \"semantic_type\": \"\",\n        \"description\": \"\"\n      }\n    },\n    {\n      \"column\": \"dis\",\n      \"properties\": {\n        \"dtype\": \"number\",\n        \"std\": 2.105710126627611,\n        \"min\": 1.1296,\n        \"max\": 12.1265,\n        \"num_unique_values\": 412,\n        \"samples\": [\n          2.2955,\n          4.2515\n        ],\n        \"semantic_type\": \"\",\n        \"description\": \"\"\n      }\n    },\n    {\n      \"column\": \"rad\",\n      \"properties\": {\n        \"dtype\": \"number\",\n        \"std\": 8,\n        \"min\": 1,\n        \"max\": 24,\n        \"num_unique_values\": 9,\n        \"samples\": [\n          7,\n          2\n        ],\n        \"semantic_type\": \"\",\n        \"description\": \"\"\n      }\n    },\n    {\n      \"column\": \"tax\",\n      \"properties\": {\n        \"dtype\": \"number\",\n        \"std\": 168,\n        \"min\": 187,\n        \"max\": 711,\n        \"num_unique_values\": 66,\n        \"samples\": [\n          370,\n          666\n        ],\n        \"semantic_type\": \"\",\n        \"description\": \"\"\n      }\n    },\n    {\n      \"column\": \"ptratio\",\n      \"properties\": {\n        \"dtype\": \"number\",\n        \"std\": 2.1649455237144406,\n        \"min\": 12.6,\n        \"max\": 22.0,\n        \"num_unique_values\": 46,\n        \"samples\": [\n          19.6,\n          15.6\n        ],\n        \"semantic_type\": \"\",\n        \"description\": \"\"\n      }\n    },\n    {\n      \"column\": \"b\",\n      \"properties\": {\n        \"dtype\": \"number\",\n        \"std\": 91.29486438415783,\n        \"min\": 0.32,\n        \"max\": 396.9,\n        \"num_unique_values\": 357,\n        \"samples\": [\n          396.24,\n          395.11\n        ],\n        \"semantic_type\": \"\",\n        \"description\": \"\"\n      }\n    },\n    {\n      \"column\": \"lstat\",\n      \"properties\": {\n        \"dtype\": \"number\",\n        \"std\": 7.141061511348571,\n        \"min\": 1.73,\n        \"max\": 37.97,\n        \"num_unique_values\": 455,\n        \"samples\": [\n          6.15,\n          4.32\n        ],\n        \"semantic_type\": \"\",\n        \"description\": \"\"\n      }\n    },\n    {\n      \"column\": \"medv\",\n      \"properties\": {\n        \"dtype\": \"number\",\n        \"std\": 9.197104087379818,\n        \"min\": 5.0,\n        \"max\": 50.0,\n        \"num_unique_values\": 229,\n        \"samples\": [\n          14.1,\n          22.5\n        ],\n        \"semantic_type\": \"\",\n        \"description\": \"\"\n      }\n    }\n  ]\n}"
            }
          },
          "metadata": {},
          "execution_count": 7
        }
      ],
      "source": [
        "boston"
      ]
    },
    {
      "cell_type": "code",
      "execution_count": null,
      "metadata": {
        "colab": {
          "base_uri": "https://localhost:8080/"
        },
        "id": "2ZOUnokOcGaa",
        "outputId": "213ace03-6b68-4797-a5dc-24ae2703950c"
      },
      "outputs": [
        {
          "output_type": "stream",
          "name": "stdout",
          "text": [
            "<class 'pandas.core.frame.DataFrame'>\n",
            "RangeIndex: 506 entries, 0 to 505\n",
            "Data columns (total 14 columns):\n",
            " #   Column   Non-Null Count  Dtype  \n",
            "---  ------   --------------  -----  \n",
            " 0   crim     506 non-null    float64\n",
            " 1   zn       506 non-null    float64\n",
            " 2   indus    506 non-null    float64\n",
            " 3   chas     506 non-null    int64  \n",
            " 4   nox      506 non-null    float64\n",
            " 5   rm       501 non-null    float64\n",
            " 6   age      506 non-null    float64\n",
            " 7   dis      506 non-null    float64\n",
            " 8   rad      506 non-null    int64  \n",
            " 9   tax      506 non-null    int64  \n",
            " 10  ptratio  506 non-null    float64\n",
            " 11  b        506 non-null    float64\n",
            " 12  lstat    506 non-null    float64\n",
            " 13  medv     506 non-null    float64\n",
            "dtypes: float64(11), int64(3)\n",
            "memory usage: 55.5 KB\n"
          ]
        }
      ],
      "source": [
        "boston.info()"
      ]
    },
    {
      "cell_type": "code",
      "source": [
        "meanings = {\n",
        "    'crim': 'Per capita crime rate by town',\n",
        "    'zn': 'Proportion of residential land zoned for large lots over 25,000 sq. ft.',\n",
        "    'indus': 'Proportion of non-retail business acres per town',\n",
        "    'chas': 'Charles River dummy variable (1 if the tract bounds river, 0 otherwise)',\n",
        "    'nox': 'Concentration of nitrogen oxides in the air (parts per 10 million)',\n",
        "    'rm': 'Average number of rooms per dwelling',\n",
        "    'age': 'Proportion of owner-occupied units built before 1940',\n",
        "    'dis': 'Weighted distances to Boston employment centers',\n",
        "    'rad': 'Index of accessibility to radial highways',\n",
        "    'tax': 'Property tax rate per $10,000',\n",
        "    'ptratio': 'Pupil-teacher ratio by town',\n",
        "    'b': '1000(Bk - 0.63)^2, where Bk is the proportion of Black residents by town',\n",
        "    'lstat': 'Percentage of lower status of the population',\n",
        "    'medv': 'Median value of owner-occupied homes in $1000s'\n",
        "}\n"
      ],
      "metadata": {
        "id": "-GO9bmgUR-pO"
      },
      "execution_count": null,
      "outputs": []
    },
    {
      "cell_type": "markdown",
      "metadata": {
        "id": "4wwVOsUxbMFQ"
      },
      "source": [
        "As we can see over here that most of the values of chas and zn are zero. So we will check if most of their values are zero then we will remove those because that will be of no value to us"
      ]
    },
    {
      "cell_type": "code",
      "execution_count": null,
      "metadata": {
        "colab": {
          "base_uri": "https://localhost:8080/"
        },
        "id": "cgq0TedlbJIy",
        "outputId": "d3b918e2-fafa-4a97-e070-7de7ad690cd5"
      },
      "outputs": [
        {
          "output_type": "stream",
          "name": "stdout",
          "text": [
            "crim         0\n",
            "zn         372\n",
            "indus        0\n",
            "chas       471\n",
            "nox          0\n",
            "rm           0\n",
            "age          0\n",
            "dis          0\n",
            "rad          0\n",
            "tax          0\n",
            "ptratio      0\n",
            "b            0\n",
            "lstat        0\n",
            "medv         0\n",
            "dtype: int64\n"
          ]
        }
      ],
      "source": [
        "zeros_count = (boston == 0).sum()\n",
        "print(zeros_count)"
      ]
    },
    {
      "cell_type": "code",
      "source": [
        "boston.fillna(boston.mean(), inplace=True)"
      ],
      "metadata": {
        "id": "gfzogSjfdgFN"
      },
      "execution_count": null,
      "outputs": []
    },
    {
      "cell_type": "markdown",
      "metadata": {
        "id": "7mO74C-Cb0UX"
      },
      "source": [
        "We are going to remove the zn and chas as there are way too many zeros out of total 506 inputs."
      ]
    },
    {
      "cell_type": "code",
      "execution_count": null,
      "metadata": {
        "id": "EdBWtZp3btj1"
      },
      "outputs": [],
      "source": [
        "boston = boston.drop(['zn','chas'], axis=1)"
      ]
    },
    {
      "cell_type": "code",
      "execution_count": null,
      "metadata": {
        "colab": {
          "base_uri": "https://localhost:8080/"
        },
        "id": "62WGDH3CcRBU",
        "outputId": "723b5da9-70f0-46d7-9512-94992fbca12b"
      },
      "outputs": [
        {
          "output_type": "stream",
          "name": "stdout",
          "text": [
            "<class 'pandas.core.frame.DataFrame'>\n",
            "RangeIndex: 506 entries, 0 to 505\n",
            "Data columns (total 12 columns):\n",
            " #   Column   Non-Null Count  Dtype  \n",
            "---  ------   --------------  -----  \n",
            " 0   crim     506 non-null    float64\n",
            " 1   indus    506 non-null    float64\n",
            " 2   nox      506 non-null    float64\n",
            " 3   rm       506 non-null    float64\n",
            " 4   age      506 non-null    float64\n",
            " 5   dis      506 non-null    float64\n",
            " 6   rad      506 non-null    int64  \n",
            " 7   tax      506 non-null    int64  \n",
            " 8   ptratio  506 non-null    float64\n",
            " 9   b        506 non-null    float64\n",
            " 10  lstat    506 non-null    float64\n",
            " 11  medv     506 non-null    float64\n",
            "dtypes: float64(10), int64(2)\n",
            "memory usage: 47.6 KB\n"
          ]
        }
      ],
      "source": [
        "boston.info()"
      ]
    },
    {
      "cell_type": "markdown",
      "metadata": {
        "id": "8qkH3MuEcVgt"
      },
      "source": [
        "# Spliting Data\n",
        "Now I will split the data into training and testing subsets."
      ]
    },
    {
      "cell_type": "code",
      "execution_count": null,
      "metadata": {
        "id": "GqcKHKgxcSpO"
      },
      "outputs": [],
      "source": [
        "from sklearn.model_selection import train_test_split"
      ]
    },
    {
      "cell_type": "code",
      "execution_count": null,
      "metadata": {
        "id": "1uxwgOAWdtQF"
      },
      "outputs": [],
      "source": [
        "train_df, test_df = train_test_split(boston, test_size=0.2, random_state=42)\n"
      ]
    },
    {
      "cell_type": "code",
      "execution_count": null,
      "metadata": {
        "colab": {
          "base_uri": "https://localhost:8080/"
        },
        "id": "BrUvgiKoeTJx",
        "outputId": "5083bae2-5e4f-4832-da8f-b44fd85b12c5"
      },
      "outputs": [
        {
          "output_type": "stream",
          "name": "stdout",
          "text": [
            "(404, 12)\n",
            "(102, 12)\n"
          ]
        }
      ],
      "source": [
        "print(train_df.shape)\n",
        "print(test_df.shape)"
      ]
    },
    {
      "cell_type": "markdown",
      "metadata": {
        "id": "f8VdicPveeYt"
      },
      "source": [
        "# Data Analysis\n",
        "Now i will peform data analysis on the train_df to see the effects of different parameters on the pricing of boston houses."
      ]
    },
    {
      "cell_type": "code",
      "execution_count": null,
      "metadata": {
        "id": "6CWHLUSWgD8E"
      },
      "outputs": [],
      "source": [
        "def generate_bar_graph(column_name):\n",
        "  print(f'{column_name} meaning is {meanings[column_name]}')\n",
        "  data_req = train_df[column_name]\n",
        "  plt.bar(data_req, train_df['medv'])\n",
        "  plt.xlabel = column_name\n",
        "  plt.ylabel = 'medv'\n",
        "  plt.title(f'Effect of {column_name} on medv')\n",
        "  plt.show()"
      ]
    },
    {
      "cell_type": "code",
      "execution_count": null,
      "metadata": {
        "colab": {
          "base_uri": "https://localhost:8080/",
          "height": 470
        },
        "id": "bEraNcNfg--M",
        "outputId": "062e7111-4b74-4e63-af55-0152b16083cd"
      },
      "outputs": [
        {
          "output_type": "stream",
          "name": "stdout",
          "text": [
            "crim meaning is Per capita crime rate by town\n"
          ]
        },
        {
          "output_type": "display_data",
          "data": {
            "text/plain": [
              "<Figure size 640x480 with 1 Axes>"
            ],
            "image/png": "[encoded data removed]"
          },
          "metadata": {}
        }
      ],
      "source": [
        "generate_bar_graph('crim')"
      ]
    },
    {
      "cell_type": "markdown",
      "source": [
        "Higher crime rates are associated with lower home values, which is expected as safety is a key factor in real estate."
      ],
      "metadata": {
        "id": "ShwnE4YVVO-k"
      }
    },
    {
      "cell_type": "code",
      "execution_count": null,
      "metadata": {
        "id": "f5Z70gR2hATa",
        "colab": {
          "base_uri": "https://localhost:8080/",
          "height": 470
        },
        "outputId": "e69bc9dd-f990-4816-d7bd-2d51a21c3bf3"
      },
      "outputs": [
        {
          "output_type": "stream",
          "name": "stdout",
          "text": [
            "indus meaning is Proportion of non-retail business acres per town\n"
          ]
        },
        {
          "output_type": "display_data",
          "data": {
            "text/plain": [
              "<Figure size 640x480 with 1 Axes>"
            ],
            "image/png": "[encoded data removed]"
          },
          "metadata": {}
        }
      ],
      "source": [
        "generate_bar_graph('indus')"
      ]
    },
    {
      "cell_type": "markdown",
      "source": [
        "More industrial areas are generally less desirable to live in."
      ],
      "metadata": {
        "id": "m7zNXaNfWjWv"
      }
    },
    {
      "cell_type": "code",
      "source": [
        "generate_bar_graph('nox')"
      ],
      "metadata": {
        "colab": {
          "base_uri": "https://localhost:8080/",
          "height": 470
        },
        "id": "MJrT7Cb7TD2B",
        "outputId": "ea1415c9-4ad7-47c0-d505-b0c2b9c122b4"
      },
      "execution_count": null,
      "outputs": [
        {
          "output_type": "stream",
          "name": "stdout",
          "text": [
            "nox meaning is Concentration of nitrogen oxides in the air (parts per 10 million)\n"
          ]
        },
        {
          "output_type": "display_data",
          "data": {
            "text/plain": [
              "<Figure size 640x480 with 1 Axes>"
            ],
            "image/png": "[encoded data removed]"
          },
          "metadata": {}
        }
      ]
    },
    {
      "cell_type": "markdown",
      "source": [
        "More polluted areas are generally less desirable to live in."
      ],
      "metadata": {
        "id": "rNZVC7JXXF8a"
      }
    },
    {
      "cell_type": "code",
      "source": [
        "generate_bar_graph('rm')"
      ],
      "metadata": {
        "id": "jjJrW_3MTHyr",
        "colab": {
          "base_uri": "https://localhost:8080/",
          "height": 470
        },
        "outputId": "933fff16-1698-4099-e861-66dbb521a76f"
      },
      "execution_count": null,
      "outputs": [
        {
          "output_type": "stream",
          "name": "stdout",
          "text": [
            "rm meaning is Average number of rooms per dwelling\n"
          ]
        },
        {
          "output_type": "display_data",
          "data": {
            "text/plain": [
              "<Figure size 640x480 with 1 Axes>"
            ],
            "image/png": "[encoded data removed]"
          },
          "metadata": {}
        }
      ]
    },
    {
      "cell_type": "markdown",
      "source": [
        "Larger homes tend to be more pricey than smaller ones."
      ],
      "metadata": {
        "id": "H7_0kv-tXJ3c"
      }
    },
    {
      "cell_type": "code",
      "source": [
        "generate_bar_graph('age')"
      ],
      "metadata": {
        "id": "jyzIKxZfTOaD",
        "colab": {
          "base_uri": "https://localhost:8080/",
          "height": 470
        },
        "outputId": "f715fd24-046f-43d7-faec-521d0cd742d6"
      },
      "execution_count": null,
      "outputs": [
        {
          "output_type": "stream",
          "name": "stdout",
          "text": [
            "age meaning is Proportion of owner-occupied units built before 1940\n"
          ]
        },
        {
          "output_type": "display_data",
          "data": {
            "text/plain": [
              "<Figure size 640x480 with 1 Axes>"
            ],
            "image/png": "[encoded data removed]"
          },
          "metadata": {}
        }
      ]
    },
    {
      "cell_type": "markdown",
      "source": [
        "This graph is very erratic to drive any conclusion from and I cannot see much of a pattern."
      ],
      "metadata": {
        "id": "wJtpNpr1XP91"
      }
    },
    {
      "cell_type": "code",
      "source": [
        "generate_bar_graph('dis')"
      ],
      "metadata": {
        "id": "D-KKfUcmTQ9c",
        "colab": {
          "base_uri": "https://localhost:8080/",
          "height": 470
        },
        "outputId": "106d6278-37b6-4456-d99d-8dda57a56af9"
      },
      "execution_count": null,
      "outputs": [
        {
          "output_type": "stream",
          "name": "stdout",
          "text": [
            "dis meaning is Weighted distances to Boston employment centers\n"
          ]
        },
        {
          "output_type": "display_data",
          "data": {
            "text/plain": [
              "<Figure size 640x480 with 1 Axes>"
            ],
            "image/png": "[encoded data removed]"
          },
          "metadata": {}
        }
      ]
    },
    {
      "cell_type": "markdown",
      "source": [
        "ones located farther from employment centers tend to have slightly higher values, possibly because suburban or rural homes are valued more."
      ],
      "metadata": {
        "id": "fz0bXEQOXaKm"
      }
    },
    {
      "cell_type": "code",
      "source": [
        "generate_bar_graph('rad')"
      ],
      "metadata": {
        "id": "M2uJpt4WTTlR",
        "colab": {
          "base_uri": "https://localhost:8080/",
          "height": 470
        },
        "outputId": "5175de67-1a46-4f05-b0d9-e037ecfc69a8"
      },
      "execution_count": null,
      "outputs": [
        {
          "output_type": "stream",
          "name": "stdout",
          "text": [
            "rad meaning is Index of accessibility to radial highways\n"
          ]
        },
        {
          "output_type": "display_data",
          "data": {
            "text/plain": [
              "<Figure size 640x480 with 1 Axes>"
            ],
            "image/png": "[encoded data removed]"
          },
          "metadata": {}
        }
      ]
    },
    {
      "cell_type": "markdown",
      "source": [
        "Proximity to major roads might reduce desirability due to noise or traffic."
      ],
      "metadata": {
        "id": "rWXwPhugXf0W"
      }
    },
    {
      "cell_type": "code",
      "source": [
        "generate_bar_graph('tax')"
      ],
      "metadata": {
        "colab": {
          "base_uri": "https://localhost:8080/",
          "height": 470
        },
        "id": "p8L569sIUCY9",
        "outputId": "e03fb36f-097e-42ea-fce0-44a66b17ccfe"
      },
      "execution_count": null,
      "outputs": [
        {
          "output_type": "stream",
          "name": "stdout",
          "text": [
            "tax meaning is Property tax rate per $10,000\n"
          ]
        },
        {
          "output_type": "display_data",
          "data": {
            "text/plain": [
              "<Figure size 640x480 with 1 Axes>"
            ],
            "image/png": "[encoded data removed]"
          },
          "metadata": {}
        }
      ]
    },
    {
      "cell_type": "markdown",
      "source": [
        "Higher taxes are mostly seem less attractive as compared to higher taxes."
      ],
      "metadata": {
        "id": "hG_KBc1-XqdM"
      }
    },
    {
      "cell_type": "code",
      "source": [
        "generate_bar_graph('ptratio')"
      ],
      "metadata": {
        "colab": {
          "base_uri": "https://localhost:8080/",
          "height": 470
        },
        "id": "bZJr4B1AUHCn",
        "outputId": "69877bd1-5e98-4b9a-a4aa-04b158e7b2b8"
      },
      "execution_count": null,
      "outputs": [
        {
          "output_type": "stream",
          "name": "stdout",
          "text": [
            "ptratio meaning is Pupil-teacher ratio by town\n"
          ]
        },
        {
          "output_type": "display_data",
          "data": {
            "text/plain": [
              "<Figure size 640x480 with 1 Axes>"
            ],
            "image/png": "[encoded data removed]"
          },
          "metadata": {}
        }
      ]
    },
    {
      "cell_type": "markdown",
      "source": [],
      "metadata": {
        "id": "zf8TpQq0YBzn"
      }
    },
    {
      "cell_type": "code",
      "source": [
        "generate_bar_graph('b')"
      ],
      "metadata": {
        "colab": {
          "base_uri": "https://localhost:8080/",
          "height": 470
        },
        "id": "2Imb4TW0UJMm",
        "outputId": "4a8bbc64-7b6b-4b94-dc02-99743f4cf90e"
      },
      "execution_count": null,
      "outputs": [
        {
          "output_type": "stream",
          "name": "stdout",
          "text": [
            "b meaning is 1000(Bk - 0.63)^2, where Bk is the proportion of Black residents by town\n"
          ]
        },
        {
          "output_type": "display_data",
          "data": {
            "text/plain": [
              "<Figure size 640x480 with 1 Axes>"
            ],
            "image/png": "[encoded data removed]"
          },
          "metadata": {}
        }
      ]
    },
    {
      "cell_type": "code",
      "source": [
        "generate_bar_graph('lstat')"
      ],
      "metadata": {
        "colab": {
          "base_uri": "https://localhost:8080/",
          "height": 470
        },
        "id": "c2bAPC_CUVii",
        "outputId": "4897d095-09e5-44a0-9f8e-8d7603115cab"
      },
      "execution_count": null,
      "outputs": [
        {
          "output_type": "stream",
          "name": "stdout",
          "text": [
            "lstat meaning is Percentage of lower status of the population\n"
          ]
        },
        {
          "output_type": "display_data",
          "data": {
            "text/plain": [
              "<Figure size 640x480 with 1 Axes>"
            ],
            "image/png": "[encoded data removed]"
          },
          "metadata": {}
        }
      ]
    },
    {
      "cell_type": "markdown",
      "source": [
        "Higher percentages of lower-status populations are associated with lower home values."
      ],
      "metadata": {
        "id": "u42N_VK8YRLM"
      }
    },
    {
      "cell_type": "code",
      "source": [
        "# Correlation of different factors with medv\n",
        "correlations = train_df.corr()['medv'].sort_values(ascending=False)\n",
        "correlations"
      ],
      "metadata": {
        "colab": {
          "base_uri": "https://localhost:8080/",
          "height": 460
        },
        "id": "bU7Te7jQUjhp",
        "outputId": "57f9a7fc-88f2-46bd-98b2-a46420775de0"
      },
      "execution_count": null,
      "outputs": [
        {
          "output_type": "execute_result",
          "data": {
            "text/plain": [
              "medv       1.000000\n",
              "rm         0.710762\n",
              "b          0.339918\n",
              "dis        0.235114\n",
              "age       -0.340216\n",
              "crim      -0.380091\n",
              "rad       -0.387467\n",
              "nox       -0.415768\n",
              "tax       -0.459795\n",
              "indus     -0.470546\n",
              "ptratio   -0.491210\n",
              "lstat     -0.736422\n",
              "Name: medv, dtype: float64"
            ],
            "text/html": [
              "<div>\n",
              "<style scoped>\n",
              "    .dataframe tbody tr th:only-of-type {\n",
              "        vertical-align: middle;\n",
              "    }\n",
              "\n",
              "    .dataframe tbody tr th {\n",
              "        vertical-align: top;\n",
              "    }\n",
              "\n",
              "    .dataframe thead th {\n",
              "        text-align: right;\n",
              "    }\n",
              "</style>\n",
              "<table border=\"1\" class=\"dataframe\">\n",
              "  <thead>\n",
              "    <tr style=\"text-align: right;\">\n",
              "      <th></th>\n",
              "      <th>medv</th>\n",
              "    </tr>\n",
              "  </thead>\n",
              "  <tbody>\n",
              "    <tr>\n",
              "      <th>medv</th>\n",
              "      <td>1.000000</td>\n",
              "    </tr>\n",
              "    <tr>\n",
              "      <th>rm</th>\n",
              "      <td>0.710762</td>\n",
              "    </tr>\n",
              "    <tr>\n",
              "      <th>b</th>\n",
              "      <td>0.339918</td>\n",
              "    </tr>\n",
              "    <tr>\n",
              "      <th>dis</th>\n",
              "      <td>0.235114</td>\n",
              "    </tr>\n",
              "    <tr>\n",
              "      <th>age</th>\n",
              "      <td>-0.340216</td>\n",
              "    </tr>\n",
              "    <tr>\n",
              "      <th>crim</th>\n",
              "      <td>-0.380091</td>\n",
              "    </tr>\n",
              "    <tr>\n",
              "      <th>rad</th>\n",
              "      <td>-0.387467</td>\n",
              "    </tr>\n",
              "    <tr>\n",
              "      <th>nox</th>\n",
              "      <td>-0.415768</td>\n",
              "    </tr>\n",
              "    <tr>\n",
              "      <th>tax</th>\n",
              "      <td>-0.459795</td>\n",
              "    </tr>\n",
              "    <tr>\n",
              "      <th>indus</th>\n",
              "      <td>-0.470546</td>\n",
              "    </tr>\n",
              "    <tr>\n",
              "      <th>ptratio</th>\n",
              "      <td>-0.491210</td>\n",
              "    </tr>\n",
              "    <tr>\n",
              "      <th>lstat</th>\n",
              "      <td>-0.736422</td>\n",
              "    </tr>\n",
              "  </tbody>\n",
              "</table>\n",
              "</div><br><label><b>dtype:</b> float64</label>"
            ]
          },
          "metadata": {},
          "execution_count": 29
        }
      ]
    },
    {
      "cell_type": "code",
      "source": [
        "sns.heatmap(boston.corr(numeric_only = True), cmap='Reds', annot=True)\n",
        "plt.title('Correlation Matrix')"
      ],
      "metadata": {
        "colab": {
          "base_uri": "https://localhost:8080/",
          "height": 503
        },
        "id": "OeD0oyT-f30Z",
        "outputId": "134e30a7-1f3a-4b68-b6d1-d30cd499ba69"
      },
      "execution_count": null,
      "outputs": [
        {
          "output_type": "execute_result",
          "data": {
            "text/plain": [
              "Text(0.5, 1.0, 'Correlation Matrix')"
            ]
          },
          "metadata": {},
          "execution_count": 30
        },
        {
          "output_type": "display_data",
          "data": {
            "text/plain": [
              "<Figure size 640x480 with 2 Axes>"
            ],
            "image/png": "[encoded data removed]"
          },
          "metadata": {}
        }
      ]
    },
    {
      "cell_type": "markdown",
      "source": [
        "These correlations also somewhat justify the prediction that we made."
      ],
      "metadata": {
        "id": "2M64mp3eYeV5"
      }
    },
    {
      "cell_type": "markdown",
      "source": [
        "Now we will start with the ML. We are divin=ding the features(X) and target variable(Y)"
      ],
      "metadata": {
        "id": "h9lm9UlvbAcC"
      }
    },
    {
      "cell_type": "code",
      "source": [
        "X_train = train_df.drop('medv', axis=1)\n",
        "Y_train = train_df['medv']"
      ],
      "metadata": {
        "id": "J_6-bi2jauAj"
      },
      "execution_count": null,
      "outputs": []
    },
    {
      "cell_type": "code",
      "source": [
        "X_test = test_df.drop('medv', axis=1)\n",
        "Y_test = test_df['medv']"
      ],
      "metadata": {
        "id": "37As9Waia9BD"
      },
      "execution_count": null,
      "outputs": []
    },
    {
      "cell_type": "code",
      "source": [
        "from sklearn.linear_model import LinearRegression"
      ],
      "metadata": {
        "id": "fUQgcRXya9is"
      },
      "execution_count": null,
      "outputs": []
    },
    {
      "cell_type": "code",
      "source": [
        "model = LinearRegression()"
      ],
      "metadata": {
        "id": "emHskpv1bQK5"
      },
      "execution_count": null,
      "outputs": []
    },
    {
      "cell_type": "code",
      "source": [
        "help(model.fit)"
      ],
      "metadata": {
        "colab": {
          "base_uri": "https://localhost:8080/"
        },
        "id": "EH0XCuJ4bfb_",
        "outputId": "01dc5370-159f-4250-9bba-a74eed3df2e7"
      },
      "execution_count": null,
      "outputs": [
        {
          "output_type": "stream",
          "name": "stdout",
          "text": [
            "Help on method fit in module sklearn.linear_model._base:\n",
            "\n",
            "fit(X, y, sample_weight=None) method of sklearn.linear_model._base.LinearRegression instance\n",
            "    Fit linear model.\n",
            "    \n",
            "    Parameters\n",
            "    ----------\n",
            "    X : {array-like, sparse matrix} of shape (n_samples, n_features)\n",
            "        Training data.\n",
            "    \n",
            "    y : array-like of shape (n_samples,) or (n_samples, n_targets)\n",
            "        Target values. Will be cast to X's dtype if necessary.\n",
            "    \n",
            "    sample_weight : array-like of shape (n_samples,), default=None\n",
            "        Individual weights for each sample.\n",
            "    \n",
            "        .. versionadded:: 0.17\n",
            "           parameter *sample_weight* support to LinearRegression.\n",
            "    \n",
            "    Returns\n",
            "    -------\n",
            "    self : object\n",
            "        Fitted Estimator.\n",
            "\n"
          ]
        }
      ]
    },
    {
      "cell_type": "code",
      "source": [
        "model.fit(X_train, Y_train)"
      ],
      "metadata": {
        "colab": {
          "base_uri": "https://localhost:8080/",
          "height": 74
        },
        "id": "pg0CbgLAcGlv",
        "outputId": "e8c27817-a10e-4620-857f-c152aab03d80"
      },
      "execution_count": null,
      "outputs": [
        {
          "output_type": "execute_result",
          "data": {
            "text/plain": [
              "LinearRegression()"
            ],
            "text/html": [
              "<style>#sk-container-id-1 {color: black;}#sk-container-id-1 pre{padding: 0;}#sk-container-id-1 div.sk-toggleable {background-color: white;}#sk-container-id-1 label.sk-toggleable__label {cursor: pointer;display: block;width: 100%;margin-bottom: 0;padding: 0.3em;box-sizing: border-box;text-align: center;}#sk-container-id-1 label.sk-toggleable__label-arrow:before {content: \"▸\";float: left;margin-right: 0.25em;color: #696969;}#sk-container-id-1 label.sk-toggleable__label-arrow:hover:before {color: black;}#sk-container-id-1 div.sk-estimator:hover label.sk-toggleable__label-arrow:before {color: black;}#sk-container-id-1 div.sk-toggleable__content {max-height: 0;max-width: 0;overflow: hidden;text-align: left;background-color: #f0f8ff;}#sk-container-id-1 div.sk-toggleable__content pre {margin: 0.2em;color: black;border-radius: 0.25em;background-color: #f0f8ff;}#sk-container-id-1 input.sk-toggleable__control:checked~div.sk-toggleable__content {max-height: 200px;max-width: 100%;overflow: auto;}#sk-container-id-1 input.sk-toggleable__control:checked~label.sk-toggleable__label-arrow:before {content: \"▾\";}#sk-container-id-1 div.sk-estimator input.sk-toggleable__control:checked~label.sk-toggleable__label {background-color: #d4ebff;}#sk-container-id-1 div.sk-label input.sk-toggleable__control:checked~label.sk-toggleable__label {background-color: #d4ebff;}#sk-container-id-1 input.sk-hidden--visually {border: 0;clip: rect(1px 1px 1px 1px);clip: rect(1px, 1px, 1px, 1px);height: 1px;margin: -1px;overflow: hidden;padding: 0;position: absolute;width: 1px;}#sk-container-id-1 div.sk-estimator {font-family: monospace;background-color: #f0f8ff;border: 1px dotted black;border-radius: 0.25em;box-sizing: border-box;margin-bottom: 0.5em;}#sk-container-id-1 div.sk-estimator:hover {background-color: #d4ebff;}#sk-container-id-1 div.sk-parallel-item::after {content: \"\";width: 100%;border-bottom: 1px solid gray;flex-grow: 1;}#sk-container-id-1 div.sk-label:hover label.sk-toggleable__label {background-color: #d4ebff;}#sk-container-id-1 div.sk-serial::before {content: \"\";position: absolute;border-left: 1px solid gray;box-sizing: border-box;top: 0;bottom: 0;left: 50%;z-index: 0;}#sk-container-id-1 div.sk-serial {display: flex;flex-direction: column;align-items: center;background-color: white;padding-right: 0.2em;padding-left: 0.2em;position: relative;}#sk-container-id-1 div.sk-item {position: relative;z-index: 1;}#sk-container-id-1 div.sk-parallel {display: flex;align-items: stretch;justify-content: center;background-color: white;position: relative;}#sk-container-id-1 div.sk-item::before, #sk-container-id-1 div.sk-parallel-item::before {content: \"\";position: absolute;border-left: 1px solid gray;box-sizing: border-box;top: 0;bottom: 0;left: 50%;z-index: -1;}#sk-container-id-1 div.sk-parallel-item {display: flex;flex-direction: column;z-index: 1;position: relative;background-color: white;}#sk-container-id-1 div.sk-parallel-item:first-child::after {align-self: flex-end;width: 50%;}#sk-container-id-1 div.sk-parallel-item:last-child::after {align-self: flex-start;width: 50%;}#sk-container-id-1 div.sk-parallel-item:only-child::after {width: 0;}#sk-container-id-1 div.sk-dashed-wrapped {border: 1px dashed gray;margin: 0 0.4em 0.5em 0.4em;box-sizing: border-box;padding-bottom: 0.4em;background-color: white;}#sk-container-id-1 div.sk-label label {font-family: monospace;font-weight: bold;display: inline-block;line-height: 1.2em;}#sk-container-id-1 div.sk-label-container {text-align: center;}#sk-container-id-1 div.sk-container {/* jupyter's `normalize.less` sets `[hidden] { display: none; }` but bootstrap.min.css set `[hidden] { display: none !important; }` so we also need the `!important` here to be able to override the default hidden behavior on the sphinx rendered scikit-learn.org. See: https://github.com/scikit-learn/scikit-learn/issues/21755 */display: inline-block !important;position: relative;}#sk-container-id-1 div.sk-text-repr-fallback {display: none;}</style><div id=\"sk-container-id-1\" class=\"sk-top-container\"><div class=\"sk-text-repr-fallback\"><pre>LinearRegression()</pre><b>In a Jupyter environment, please rerun this cell to show the HTML representation or trust the notebook. <br />On GitHub, the HTML representation is unable to render, please try loading this page with nbviewer.org.</b></div><div class=\"sk-container\" hidden><div class=\"sk-item\"><div class=\"sk-estimator sk-toggleable\"><input class=\"sk-toggleable__control sk-hidden--visually\" id=\"sk-estimator-id-1\" type=\"checkbox\" checked><label for=\"sk-estimator-id-1\" class=\"sk-toggleable__label sk-toggleable__label-arrow\">LinearRegression</label><div class=\"sk-toggleable__content\"><pre>LinearRegression()</pre></div></div></div></div></div>"
            ]
          },
          "metadata": {},
          "execution_count": 36
        }
      ]
    },
    {
      "cell_type": "code",
      "source": [
        "Y_pred = model.predict(X_test)"
      ],
      "metadata": {
        "id": "-xcmRjK8cQgq"
      },
      "execution_count": null,
      "outputs": []
    },
    {
      "cell_type": "code",
      "source": [
        "from sklearn.metrics import mean_squared_error, r2_score"
      ],
      "metadata": {
        "id": "Ddo74b_KhJQ7"
      },
      "execution_count": null,
      "outputs": []
    },
    {
      "cell_type": "code",
      "source": [
        "mse = mean_squared_error(Y_test, Y_pred, squared=False)\n",
        "rmse = np.sqrt(mse)\n",
        "r2 = r2_score(Y_test, Y_pred)\n",
        "\n",
        "print(f'Mean Squared Error: {mse}')\n",
        "print(f'Root Mean Squared Error: {rmse}')\n",
        "print(f'R-squared: {r2}')"
      ],
      "metadata": {
        "id": "eeuvgkuxj6rB",
        "colab": {
          "base_uri": "https://localhost:8080/"
        },
        "outputId": "e0d573fb-9571-4691-a3fc-277bd25ca052"
      },
      "execution_count": null,
      "outputs": [
        {
          "output_type": "stream",
          "name": "stdout",
          "text": [
            "Mean Squared Error: 5.111561582799804\n",
            "Root Mean Squared Error: 2.260876286487123\n",
            "R-squared: 0.6437104334623862\n"
          ]
        }
      ]
    },
    {
      "cell_type": "code",
      "source": [
        "model.coef_"
      ],
      "metadata": {
        "colab": {
          "base_uri": "https://localhost:8080/"
        },
        "id": "a_bJjZ4yneAn",
        "outputId": "92c52cb8-afb7-4fec-a7d7-814ebde5df51"
      },
      "execution_count": null,
      "outputs": [
        {
          "output_type": "execute_result",
          "data": {
            "text/plain": [
              "array([-1.13679216e-01,  4.62120856e-02, -1.67410308e+01,  4.60116312e+00,\n",
              "       -7.60132534e-03, -1.26327272e+00,  2.64425875e-01, -9.58314338e-03,\n",
              "       -1.04734076e+00,  1.30021578e-02, -5.18126703e-01])"
            ]
          },
          "metadata": {},
          "execution_count": 40
        }
      ]
    },
    {
      "cell_type": "code",
      "source": [
        "model.intercept_"
      ],
      "metadata": {
        "colab": {
          "base_uri": "https://localhost:8080/"
        },
        "id": "RSasamE3oBs3",
        "outputId": "6a473d58-c694-4c25-8752-6fdf599f9fe0"
      },
      "execution_count": null,
      "outputs": [
        {
          "output_type": "execute_result",
          "data": {
            "text/plain": [
              "30.68843954575493"
            ]
          },
          "metadata": {},
          "execution_count": 41
        }
      ]
    },
    {
      "cell_type": "code",
      "source": [
        "#Let us use different approaches now"
      ],
      "metadata": {
        "id": "YLV86PXnoFk7"
      },
      "execution_count": null,
      "outputs": []
    },
    {
      "cell_type": "code",
      "source": [
        "from sklearn.linear_model import Ridge\n",
        "\n",
        "# Initializing and training the Ridge regression model\n",
        "ridge_model = Ridge(alpha=1)\n",
        "ridge_model.fit(X_train, Y_train)\n",
        "\n",
        "# Making predictions with Ridge\n",
        "Y_pred_ridge = ridge_model.predict(X_test)\n",
        "\n",
        "# Evaluating Ridge regression\n",
        "mse_ridge = mean_squared_error(Y_test, Y_pred_ridge)\n",
        "rmse_ridge = np.sqrt(mse_ridge)\n",
        "r2_ridge = r2_score(Y_test, Y_pred_ridge)\n",
        "\n",
        "print(f\"Ridge Regression -> MSE: {mse_ridge}, RMSE: {rmse_ridge}, R2: {r2_ridge}\")\n"
      ],
      "metadata": {
        "colab": {
          "base_uri": "https://localhost:8080/"
        },
        "id": "tGnx8sFgoZA0",
        "outputId": "87d4c7c9-08b1-47a6-8160-636b84ee6111"
      },
      "execution_count": null,
      "outputs": [
        {
          "output_type": "stream",
          "name": "stdout",
          "text": [
            "Ridge Regression -> MSE: 26.260387761348866, RMSE: 5.124489024414909, R2: 0.6419059998045078\n"
          ]
        }
      ]
    },
    {
      "cell_type": "code",
      "source": [
        "from sklearn.linear_model import Lasso\n",
        "\n",
        "# Initializing and training the Lasso regression model\n",
        "lasso_model = Lasso(alpha=1)\n",
        "lasso_model.fit(X_train, Y_train)\n",
        "\n",
        "# Making predictions with Lasso\n",
        "Y_pred_lasso = lasso_model.predict(X_test)\n",
        "\n",
        "# Evaluating Lasso regression\n",
        "mse_lasso = mean_squared_error(Y_test, Y_pred_lasso)\n",
        "rmse_lasso = np.sqrt(mse_lasso)\n",
        "r2_lasso = r2_score(Y_test, Y_pred_lasso)\n",
        "\n",
        "print(f\"Lasso Regression -> MSE: {mse_lasso}, RMSE: {rmse_lasso}, R2: {r2_lasso}\")\n"
      ],
      "metadata": {
        "colab": {
          "base_uri": "https://localhost:8080/"
        },
        "id": "5jyE-hzco3fH",
        "outputId": "e7e74fe9-5f61-4ad5-ef39-6b88009e05fb"
      },
      "execution_count": null,
      "outputs": [
        {
          "output_type": "stream",
          "name": "stdout",
          "text": [
            "Lasso Regression -> MSE: 25.982593690337087, RMSE: 5.097312398738877, R2: 0.6456940775367648\n"
          ]
        }
      ]
    },
    {
      "cell_type": "markdown",
      "source": [
        "Now let us explore some other models which I found in the internet."
      ],
      "metadata": {
        "id": "gntb5pa6IcOe"
      }
    },
    {
      "cell_type": "code",
      "source": [
        "from sklearn.linear_model import ElasticNet\n",
        "\n",
        "# Initializing and training the ElasticNet model\n",
        "elasticnet_model = ElasticNet(alpha=0.1)\n",
        "elasticnet_model.fit(X_train, Y_train)\n",
        "\n",
        "# Making predictions with ElasticNet\n",
        "Y_pred_elasticnet = elasticnet_model.predict(X_test)\n",
        "\n",
        "# Evaluating ElasticNet regression\n",
        "mse_elasticnet = mean_squared_error(Y_test, Y_pred_elasticnet)\n",
        "rmse_elasticnet = np.sqrt(mse_elasticnet)\n",
        "r2_elasticnet = r2_score(Y_test, Y_pred_elasticnet)\n",
        "\n",
        "print(f\"ElasticNet -> MSE: {mse_elasticnet}, RMSE: {rmse_elasticnet}, R2: {r2_elasticnet}\")\n"
      ],
      "metadata": {
        "colab": {
          "base_uri": "https://localhost:8080/"
        },
        "id": "BVVSsCbYIATp",
        "outputId": "be3e5441-9618-4ec0-af5b-8030b1dc1346"
      },
      "execution_count": null,
      "outputs": [
        {
          "output_type": "stream",
          "name": "stdout",
          "text": [
            "ElasticNet -> MSE: 26.550348232566634, RMSE: 5.152703002557651, R2: 0.637952017632555\n"
          ]
        }
      ]
    },
    {
      "cell_type": "code",
      "source": [
        "print(f\"Linear Regression -> MSE: {mse}, RMSE: {rmse}, R2: {r2}\")\n",
        "print(f\"Ridge Regression -> MSE: {mse_ridge}, RMSE: {rmse_ridge}, R2: {r2_ridge}\")\n",
        "print(f\"Lasso Regression -> MSE: {mse_lasso}, RMSE: {rmse_lasso}, R2: {r2_lasso}\")\n",
        "print(f\"ElasticNet -> MSE: {mse_elasticnet}, RMSE: {rmse_elasticnet}, R2: {r2_elasticnet}\")\n"
      ],
      "metadata": {
        "colab": {
          "base_uri": "https://localhost:8080/"
        },
        "id": "EP5gOQSppCLn",
        "outputId": "77bbeccd-7fa7-439a-bdab-66c66fe910d1"
      },
      "execution_count": null,
      "outputs": [
        {
          "output_type": "stream",
          "name": "stdout",
          "text": [
            "Linear Regression -> MSE: 5.087163280198671, RMSE: 2.255474069945977, R2: 0.6471035704945931\n",
            "Ridge Regression -> MSE: 26.260387761348866, RMSE: 5.124489024414909, R2: 0.6419059998045078\n",
            "Lasso Regression -> MSE: 25.982593690337087, RMSE: 5.097312398738877, R2: 0.6456940775367648\n",
            "ElasticNet -> MSE: 26.550348232566634, RMSE: 5.152703002557651, R2: 0.637952017632555\n"
          ]
        }
      ]
    },
    {
      "cell_type": "markdown",
      "source": [
        "We tried all the different types of regression but the best is the normal Linear Regression as it is giving the least RMSE value and lease MSE value. the value of r2 is almost similar in all the four analysis. Before that let us see what it really is.\n",
        "\n",
        "A variance inflation factor (VIF) is a measure of the amount of multicollinearity in regression analysis. Multicollinearity is the occurrence of high intercorrelations among two or more independent variables in a multiple regression model."
      ],
      "metadata": {
        "id": "MYEX_RMJH1Wf"
      }
    },
    {
      "cell_type": "markdown",
      "source": [
        "Now let us check for multicollinearilty using varience inflation factor (VIF).\n"
      ],
      "metadata": {
        "id": "Y00AleG1M4l8"
      }
    },
    {
      "cell_type": "code",
      "source": [
        "from statsmodels.stats.outliers_influence import variance_inflation_factor\n",
        "\n",
        "# Calculating the VIF for each feature in the dataset\n",
        "def calculate_vif(X):\n",
        "    vif_data = pd.DataFrame()\n",
        "    vif_data[\"feature\"] = X.columns\n",
        "    vif_data[\"VIF\"] = [variance_inflation_factor(X.values, i) for i in range(X.shape[1])]\n",
        "    return vif_data\n",
        "\n",
        "# Computing the VIF for the predictors in the dataset\n",
        "vif_data = calculate_vif(X_train)\n",
        "\n",
        "# Displaying VIF values\n",
        "print(vif_data)\n"
      ],
      "metadata": {
        "colab": {
          "base_uri": "https://localhost:8080/"
        },
        "id": "C0ewC6Ylwaij",
        "outputId": "b0eeb003-9b87-4021-a791-5508e64d60e9"
      },
      "execution_count": null,
      "outputs": [
        {
          "output_type": "stream",
          "name": "stdout",
          "text": [
            "    feature        VIF\n",
            "0      crim   1.967003\n",
            "1     indus  13.416626\n",
            "2       nox  74.053522\n",
            "3        rm  73.709424\n",
            "4       age  20.676620\n",
            "5       dis  11.797954\n",
            "6       rad  14.604865\n",
            "7       tax  55.327230\n",
            "8   ptratio  67.795552\n",
            "9         b  19.601380\n",
            "10    lstat  10.417172\n"
          ]
        }
      ]
    },
    {
      "cell_type": "code",
      "source": [
        "import statsmodels.api as sm\n",
        "\n",
        "# Adding constant term for intercept\n",
        "X_train_const = sm.add_constant(X_train)\n",
        "\n",
        "# Fitting the OLS (Ordinary Least Squares) model\n",
        "model = sm.OLS(Y_train, X_train_const)\n",
        "results = model.fit()\n",
        "\n",
        "# Summary of the regression model (including p-values and significance of coefficients)\n",
        "print(results.summary())\n"
      ],
      "metadata": {
        "colab": {
          "base_uri": "https://localhost:8080/"
        },
        "id": "VSNjlo05YGAs",
        "outputId": "92efc4fc-5f70-41ce-f6a3-bd611051cf98"
      },
      "execution_count": null,
      "outputs": [
        {
          "output_type": "stream",
          "name": "stdout",
          "text": [
            "                            OLS Regression Results                            \n",
            "==============================================================================\n",
            "Dep. Variable:                   medv   R-squared:                       0.742\n",
            "Model:                            OLS   Adj. R-squared:                  0.735\n",
            "Method:                 Least Squares   F-statistic:                     102.7\n",
            "Date:                Wed, 18 Sep 2024   Prob (F-statistic):          4.00e-108\n",
            "Time:                        11:08:26   Log-Likelihood:                -1201.1\n",
            "No. Observations:                 404   AIC:                             2426.\n",
            "Df Residuals:                     392   BIC:                             2474.\n",
            "Df Model:                          11                                         \n",
            "Covariance Type:            nonrobust                                         \n",
            "==============================================================================\n",
            "                 coef    std err          t      P>|t|      [0.025      0.975]\n",
            "------------------------------------------------------------------------------\n",
            "const         30.6884      5.761      5.327      0.000      19.362      42.015\n",
            "crim          -0.1137      0.035     -3.238      0.001      -0.183      -0.045\n",
            "indus          0.0462      0.068      0.684      0.494      -0.087       0.179\n",
            "nox          -16.7410      4.274     -3.917      0.000     -25.143      -8.339\n",
            "rm             4.6012      0.468      9.835      0.000       3.681       5.521\n",
            "age           -0.0076      0.015     -0.517      0.606      -0.037       0.021\n",
            "dis           -1.2633      0.207     -6.099      0.000      -1.671      -0.856\n",
            "rad            0.2644      0.076      3.485      0.001       0.115       0.414\n",
            "tax           -0.0096      0.004     -2.330      0.020      -0.018      -0.001\n",
            "ptratio       -1.0473      0.137     -7.666      0.000      -1.316      -0.779\n",
            "b              0.0130      0.003      4.333      0.000       0.007       0.019\n",
            "lstat         -0.5181      0.056     -9.230      0.000      -0.628      -0.408\n",
            "==============================================================================\n",
            "Omnibus:                      150.964   Durbin-Watson:                   2.125\n",
            "Prob(Omnibus):                  0.000   Jarque-Bera (JB):              732.400\n",
            "Skew:                           1.548   Prob(JB):                    9.15e-160\n",
            "Kurtosis:                       8.824   Cond. No.                     1.49e+04\n",
            "==============================================================================\n",
            "\n",
            "Notes:\n",
            "[1] Standard Errors assume that the covariance matrix of the errors is correctly specified.\n",
            "[2] The condition number is large, 1.49e+04. This might indicate that there are\n",
            "strong multicollinearity or other numerical problems.\n"
          ]
        }
      ]
    },
    {
      "cell_type": "markdown",
      "source": [
        "# P-Value\n",
        "\n",
        "All the factors who have a p-value of less than 0.05 are considered significant in telling the value of medv while others with p-value of more than 0.05 are considered not that significant in telling the value of medv.\n",
        "\n",
        "# Confidence interval\n",
        "\n",
        "A confidence interval gives us a range of values that we are reasonably sure contains the true value of the coefficient. For a 95% confidence level, we're saying that we are 95% confident that the true coefficient lies within this range.\n",
        "\n",
        "If zero is not within the confidence interval, it means we are 95% confident that the coefficient is not equal to zero, which leads us to reject the null hypothesis. This suggests that the predictor has a significant effect on the outcome variable.\n",
        "\n",
        "If the confidence interval includes zero, it means there’s a possibility (based on the data) that the true value of the coefficient could be zero. In such cases, we cannot reject the null hypothesis because the predictor might have no effect on the outcome.\n",
        "\n",
        "Based on this we can also peform a linear regression removing age and indus."
      ],
      "metadata": {
        "id": "ka42AxRq-O9L"
      }
    },
    {
      "cell_type": "code",
      "source": [
        "# Plotting predicted vs actual values to assess linearity\n",
        "fig = go.Figure()\n",
        "\n",
        "fig.add_trace(go.Scatter(\n",
        "    x=Y_test,\n",
        "    y=Y_pred,\n",
        "    mode='markers',\n",
        "    marker=dict(size=8, color='rgba(255, 182, 193, .9)', line=dict(width=2, color='rgba(255, 182, 193, .9)')),\n",
        "    name='Predicted vs Actual'\n",
        "))\n",
        "\n",
        "fig.update_layout(\n",
        "    title='Predicted vs Actual Values',\n",
        "    xaxis_title='Actual values',\n",
        "    yaxis_title='Predicted values'\n",
        ")\n",
        "\n",
        "fig.show()"
      ],
      "metadata": {
        "colab": {
          "base_uri": "https://localhost:8080/",
          "height": 542
        },
        "id": "HELS3JUxcWU4",
        "outputId": "4610165d-41ea-4ed5-88f7-fab4a7457a24"
      },
      "execution_count": null,
      "outputs": [
        {
          "output_type": "display_data",
          "data": {
            "text/html": [
              "<html>\n",
              "<head><meta charset=\"utf-8\" /></head>\n",
              "<body>\n",
              "    <div>            <script src=\"https://cdnjs.cloudflare.com/ajax/libs/mathjax/2.7.5/MathJax.js?config=TeX-AMS-MML_SVG\"></script><script type=\"text/javascript\">if (window.MathJax && window.MathJax.Hub && window.MathJax.Hub.Config) {window.MathJax.Hub.Config({SVG: {font: \"STIX-Web\"}});}</script>                <script type=\"text/javascript\">window.PlotlyConfig = {MathJaxConfig: 'local'};</script>\n",
              "        <script charset=\"utf-8\" src=\"https://cdn.plot.ly/plotly-2.24.1.min.js\"></script>                <div id=\"b9987141-5a2e-4fad-9de3-ce6e6660f8a4\" class=\"plotly-graph-div\" style=\"height:525px; width:100%;\"></div>            <script type=\"text/javascript\">                                    window.PLOTLYENV=window.PLOTLYENV || {};                                    if (document.getElementById(\"b9987141-5a2e-4fad-9de3-ce6e6660f8a4\")) {                    Plotly.newPlot(                        \"b9987141-5a2e-4fad-9de3-ce6e6660f8a4\",                        [{\"marker\":{\"color\":\"rgba(255, 182, 193, .9)\",\"line\":{\"color\":\"rgba(255, 182, 193, .9)\",\"width\":2},\"size\":8},\"mode\":\"markers\",\"name\":\"Predicted vs Actual\",\"x\":[23.6,32.4,13.6,22.8,16.1,20.0,17.8,14.0,19.6,16.8,21.5,18.9,7.0,21.2,18.5,29.8,18.8,10.2,50.0,14.1,25.2,29.1,12.7,22.4,14.2,13.8,20.3,14.9,21.7,18.3,23.1,23.8,15.0,20.8,19.1,19.4,34.7,19.5,24.4,23.4,19.7,28.2,50.0,17.4,22.6,15.1,13.1,24.2,19.9,24.0,18.9,35.4,15.2,26.5,43.5,21.2,18.4,28.5,23.9,18.5,25.0,35.4,31.5,20.2,24.1,20.0,13.1,24.8,30.8,12.7,20.0,23.7,10.8,20.6,20.8,5.0,20.1,48.5,10.9,7.0,20.9,17.2,20.9,9.7,19.4,29.0,16.4,25.0,25.0,17.1,23.2,10.4,19.6,17.2,27.5,23.0,50.0,17.9,9.6,17.2,22.5,21.4],\"y\":[29.42418222314345,32.71041505639862,15.083144453942372,25.67950739859632,19.16043385618969,23.738514890809423,17.986202462697356,14.074559418957996,23.4949269575252,20.75310532777883,22.50523817539166,19.49559803683317,-6.544332841672087,22.444289892526307,19.525119418845605,26.758011440929536,20.470674879700333,5.653573724020376,39.61815913598063,17.953408730986556,27.137930269070488,29.4683708889917,11.247954812265178,24.059590931451634,18.081949448628436,16.001232808334578,23.37443557141009,14.795375074223841,19.884329577407325,19.366012548542876,22.656174308362893,25.664797927618267,26.30828755209612,17.97786086035671,17.00734803487898,17.52519074460878,32.067279981942555,20.448869407636725,21.35784505902623,25.282819073374107,13.958509299045712,31.551699389696157,41.20285174383524,17.691945442431148,27.604359440300346,17.20098387175165,13.930525076732334,26.593515106379485,20.75340022406763,30.361839432323457,22.125901058901704,34.94458824179294,16.039965352145643,26.338304868315795,40.141316240530315,23.33134679873581,19.170924806545997,30.96144569525077,25.594354639829298,13.108052023062577,20.81314018574204,29.262571766415306,32.15447151280717,15.818517529361378,20.27419178087174,13.994877265656903,20.809337404301967,25.850512797513456,29.130088646383154,11.720405333484955,21.054449404141504,28.15743626964363,11.096030135410217,14.460996897399564,24.324115804859304,6.1304051221073195,21.46577540595235,39.905590148919984,18.975224404818366,8.946602280954984,21.28855272329936,13.171713363260949,19.94849786296549,9.350753262208116,23.408268674514826,29.72703327232159,19.5268725600001,26.018502553824256,28.68370852083076,20.055368332911257,26.153341390186768,5.515484276039398,20.087991328401106,16.00757493381938,12.39595174322978,20.741232451414934,24.906129347671524,-0.6630043589567478,13.799058127262523,16.142012840166878,22.649779000593735,25.121067340936676],\"type\":\"scatter\"}],                        {\"template\":{\"data\":{\"histogram2dcontour\":[{\"type\":\"histogram2dcontour\",\"colorbar\":{\"outlinewidth\":0,\"ticks\":\"\"},\"colorscale\":[[0.0,\"#0d0887\"],[0.1111111111111111,\"#46039f\"],[0.2222222222222222,\"#7201a8\"],[0.3333333333333333,\"#9c179e\"],[0.4444444444444444,\"#bd3786\"],[0.5555555555555556,\"#d8576b\"],[0.6666666666666666,\"#ed7953\"],[0.7777777777777778,\"#fb9f3a\"],[0.8888888888888888,\"#fdca26\"],[1.0,\"#f0f921\"]]}],\"choropleth\":[{\"type\":\"choropleth\",\"colorbar\":{\"outlinewidth\":0,\"ticks\":\"\"}}],\"histogram2d\":[{\"type\":\"histogram2d\",\"colorbar\":{\"outlinewidth\":0,\"ticks\":\"\"},\"colorscale\":[[0.0,\"#0d0887\"],[0.1111111111111111,\"#46039f\"],[0.2222222222222222,\"#7201a8\"],[0.3333333333333333,\"#9c179e\"],[0.4444444444444444,\"#bd3786\"],[0.5555555555555556,\"#d8576b\"],[0.6666666666666666,\"#ed7953\"],[0.7777777777777778,\"#fb9f3a\"],[0.8888888888888888,\"#fdca26\"],[1.0,\"#f0f921\"]]}],\"heatmap\":[{\"type\":\"heatmap\",\"colorbar\":{\"outlinewidth\":0,\"ticks\":\"\"},\"colorscale\":[[0.0,\"#0d0887\"],[0.1111111111111111,\"#46039f\"],[0.2222222222222222,\"#7201a8\"],[0.3333333333333333,\"#9c179e\"],[0.4444444444444444,\"#bd3786\"],[0.5555555555555556,\"#d8576b\"],[0.6666666666666666,\"#ed7953\"],[0.7777777777777778,\"#fb9f3a\"],[0.8888888888888888,\"#fdca26\"],[1.0,\"#f0f921\"]]}],\"heatmapgl\":[{\"type\":\"heatmapgl\",\"colorbar\":{\"outlinewidth\":0,\"ticks\":\"\"},\"colorscale\":[[0.0,\"#0d0887\"],[0.1111111111111111,\"#46039f\"],[0.2222222222222222,\"#7201a8\"],[0.3333333333333333,\"#9c179e\"],[0.4444444444444444,\"#bd3786\"],[0.5555555555555556,\"#d8576b\"],[0.6666666666666666,\"#ed7953\"],[0.7777777777777778,\"#fb9f3a\"],[0.8888888888888888,\"#fdca26\"],[1.0,\"#f0f921\"]]}],\"contourcarpet\":[{\"type\":\"contourcarpet\",\"colorbar\":{\"outlinewidth\":0,\"ticks\":\"\"}}],\"contour\":[{\"type\":\"contour\",\"colorbar\":{\"outlinewidth\":0,\"ticks\":\"\"},\"colorscale\":[[0.0,\"#0d0887\"],[0.1111111111111111,\"#46039f\"],[0.2222222222222222,\"#7201a8\"],[0.3333333333333333,\"#9c179e\"],[0.4444444444444444,\"#bd3786\"],[0.5555555555555556,\"#d8576b\"],[0.6666666666666666,\"#ed7953\"],[0.7777777777777778,\"#fb9f3a\"],[0.8888888888888888,\"#fdca26\"],[1.0,\"#f0f921\"]]}],\"surface\":[{\"type\":\"surface\",\"colorbar\":{\"outlinewidth\":0,\"ticks\":\"\"},\"colorscale\":[[0.0,\"#0d0887\"],[0.1111111111111111,\"#46039f\"],[0.2222222222222222,\"#7201a8\"],[0.3333333333333333,\"#9c179e\"],[0.4444444444444444,\"#bd3786\"],[0.5555555555555556,\"#d8576b\"],[0.6666666666666666,\"#ed7953\"],[0.7777777777777778,\"#fb9f3a\"],[0.8888888888888888,\"#fdca26\"],[1.0,\"#f0f921\"]]}],\"mesh3d\":[{\"type\":\"mesh3d\",\"colorbar\":{\"outlinewidth\":0,\"ticks\":\"\"}}],\"scatter\":[{\"fillpattern\":{\"fillmode\":\"overlay\",\"size\":10,\"solidity\":0.2},\"type\":\"scatter\"}],\"parcoords\":[{\"type\":\"parcoords\",\"line\":{\"colorbar\":{\"outlinewidth\":0,\"ticks\":\"\"}}}],\"scatterpolargl\":[{\"type\":\"scatterpolargl\",\"marker\":{\"colorbar\":{\"outlinewidth\":0,\"ticks\":\"\"}}}],\"bar\":[{\"error_x\":{\"color\":\"#2a3f5f\"},\"error_y\":{\"color\":\"#2a3f5f\"},\"marker\":{\"line\":{\"color\":\"#E5ECF6\",\"width\":0.5},\"pattern\":{\"fillmode\":\"overlay\",\"size\":10,\"solidity\":0.2}},\"type\":\"bar\"}],\"scattergeo\":[{\"type\":\"scattergeo\",\"marker\":{\"colorbar\":{\"outlinewidth\":0,\"ticks\":\"\"}}}],\"scatterpolar\":[{\"type\":\"scatterpolar\",\"marker\":{\"colorbar\":{\"outlinewidth\":0,\"ticks\":\"\"}}}],\"histogram\":[{\"marker\":{\"pattern\":{\"fillmode\":\"overlay\",\"size\":10,\"solidity\":0.2}},\"type\":\"histogram\"}],\"scattergl\":[{\"type\":\"scattergl\",\"marker\":{\"colorbar\":{\"outlinewidth\":0,\"ticks\":\"\"}}}],\"scatter3d\":[{\"type\":\"scatter3d\",\"line\":{\"colorbar\":{\"outlinewidth\":0,\"ticks\":\"\"}},\"marker\":{\"colorbar\":{\"outlinewidth\":0,\"ticks\":\"\"}}}],\"scattermapbox\":[{\"type\":\"scattermapbox\",\"marker\":{\"colorbar\":{\"outlinewidth\":0,\"ticks\":\"\"}}}],\"scatterternary\":[{\"type\":\"scatterternary\",\"marker\":{\"colorbar\":{\"outlinewidth\":0,\"ticks\":\"\"}}}],\"scattercarpet\":[{\"type\":\"scattercarpet\",\"marker\":{\"colorbar\":{\"outlinewidth\":0,\"ticks\":\"\"}}}],\"carpet\":[{\"aaxis\":{\"endlinecolor\":\"#2a3f5f\",\"gridcolor\":\"white\",\"linecolor\":\"white\",\"minorgridcolor\":\"white\",\"startlinecolor\":\"#2a3f5f\"},\"baxis\":{\"endlinecolor\":\"#2a3f5f\",\"gridcolor\":\"white\",\"linecolor\":\"white\",\"minorgridcolor\":\"white\",\"startlinecolor\":\"#2a3f5f\"},\"type\":\"carpet\"}],\"table\":[{\"cells\":{\"fill\":{\"color\":\"#EBF0F8\"},\"line\":{\"color\":\"white\"}},\"header\":{\"fill\":{\"color\":\"#C8D4E3\"},\"line\":{\"color\":\"white\"}},\"type\":\"table\"}],\"barpolar\":[{\"marker\":{\"line\":{\"color\":\"#E5ECF6\",\"width\":0.5},\"pattern\":{\"fillmode\":\"overlay\",\"size\":10,\"solidity\":0.2}},\"type\":\"barpolar\"}],\"pie\":[{\"automargin\":true,\"type\":\"pie\"}]},\"layout\":{\"autotypenumbers\":\"strict\",\"colorway\":[\"#636efa\",\"#EF553B\",\"#00cc96\",\"#ab63fa\",\"#FFA15A\",\"#19d3f3\",\"#FF6692\",\"#B6E880\",\"#FF97FF\",\"#FECB52\"],\"font\":{\"color\":\"#2a3f5f\"},\"hovermode\":\"closest\",\"hoverlabel\":{\"align\":\"left\"},\"paper_bgcolor\":\"white\",\"plot_bgcolor\":\"#E5ECF6\",\"polar\":{\"bgcolor\":\"#E5ECF6\",\"angularaxis\":{\"gridcolor\":\"white\",\"linecolor\":\"white\",\"ticks\":\"\"},\"radialaxis\":{\"gridcolor\":\"white\",\"linecolor\":\"white\",\"ticks\":\"\"}},\"ternary\":{\"bgcolor\":\"#E5ECF6\",\"aaxis\":{\"gridcolor\":\"white\",\"linecolor\":\"white\",\"ticks\":\"\"},\"baxis\":{\"gridcolor\":\"white\",\"linecolor\":\"white\",\"ticks\":\"\"},\"caxis\":{\"gridcolor\":\"white\",\"linecolor\":\"white\",\"ticks\":\"\"}},\"coloraxis\":{\"colorbar\":{\"outlinewidth\":0,\"ticks\":\"\"}},\"colorscale\":{\"sequential\":[[0.0,\"#0d0887\"],[0.1111111111111111,\"#46039f\"],[0.2222222222222222,\"#7201a8\"],[0.3333333333333333,\"#9c179e\"],[0.4444444444444444,\"#bd3786\"],[0.5555555555555556,\"#d8576b\"],[0.6666666666666666,\"#ed7953\"],[0.7777777777777778,\"#fb9f3a\"],[0.8888888888888888,\"#fdca26\"],[1.0,\"#f0f921\"]],\"sequentialminus\":[[0.0,\"#0d0887\"],[0.1111111111111111,\"#46039f\"],[0.2222222222222222,\"#7201a8\"],[0.3333333333333333,\"#9c179e\"],[0.4444444444444444,\"#bd3786\"],[0.5555555555555556,\"#d8576b\"],[0.6666666666666666,\"#ed7953\"],[0.7777777777777778,\"#fb9f3a\"],[0.8888888888888888,\"#fdca26\"],[1.0,\"#f0f921\"]],\"diverging\":[[0,\"#8e0152\"],[0.1,\"#c51b7d\"],[0.2,\"#de77ae\"],[0.3,\"#f1b6da\"],[0.4,\"#fde0ef\"],[0.5,\"#f7f7f7\"],[0.6,\"#e6f5d0\"],[0.7,\"#b8e186\"],[0.8,\"#7fbc41\"],[0.9,\"#4d9221\"],[1,\"#276419\"]]},\"xaxis\":{\"gridcolor\":\"white\",\"linecolor\":\"white\",\"ticks\":\"\",\"title\":{\"standoff\":15},\"zerolinecolor\":\"white\",\"automargin\":true,\"zerolinewidth\":2},\"yaxis\":{\"gridcolor\":\"white\",\"linecolor\":\"white\",\"ticks\":\"\",\"title\":{\"standoff\":15},\"zerolinecolor\":\"white\",\"automargin\":true,\"zerolinewidth\":2},\"scene\":{\"xaxis\":{\"backgroundcolor\":\"#E5ECF6\",\"gridcolor\":\"white\",\"linecolor\":\"white\",\"showbackground\":true,\"ticks\":\"\",\"zerolinecolor\":\"white\",\"gridwidth\":2},\"yaxis\":{\"backgroundcolor\":\"#E5ECF6\",\"gridcolor\":\"white\",\"linecolor\":\"white\",\"showbackground\":true,\"ticks\":\"\",\"zerolinecolor\":\"white\",\"gridwidth\":2},\"zaxis\":{\"backgroundcolor\":\"#E5ECF6\",\"gridcolor\":\"white\",\"linecolor\":\"white\",\"showbackground\":true,\"ticks\":\"\",\"zerolinecolor\":\"white\",\"gridwidth\":2}},\"shapedefaults\":{\"line\":{\"color\":\"#2a3f5f\"}},\"annotationdefaults\":{\"arrowcolor\":\"#2a3f5f\",\"arrowhead\":0,\"arrowwidth\":1},\"geo\":{\"bgcolor\":\"white\",\"landcolor\":\"#E5ECF6\",\"subunitcolor\":\"white\",\"showland\":true,\"showlakes\":true,\"lakecolor\":\"white\"},\"title\":{\"x\":0.05},\"mapbox\":{\"style\":\"light\"}}},\"title\":{\"text\":\"Predicted vs Actual Values\"},\"xaxis\":{\"title\":{\"text\":\"Actual values\"}},\"yaxis\":{\"title\":{\"text\":\"Predicted values\"}}},                        {\"responsive\": true}                    ).then(function(){\n",
              "                            \n",
              "var gd = document.getElementById('b9987141-5a2e-4fad-9de3-ce6e6660f8a4');\n",
              "var x = new MutationObserver(function (mutations, observer) {{\n",
              "        var display = window.getComputedStyle(gd).display;\n",
              "        if (!display || display === 'none') {{\n",
              "            console.log([gd, 'removed!']);\n",
              "            Plotly.purge(gd);\n",
              "            observer.disconnect();\n",
              "        }}\n",
              "}});\n",
              "\n",
              "// Listen for the removal of the full notebook cells\n",
              "var notebookContainer = gd.closest('#notebook-container');\n",
              "if (notebookContainer) {{\n",
              "    x.observe(notebookContainer, {childList: true});\n",
              "}}\n",
              "\n",
              "// Listen for the clearing of the current output cell\n",
              "var outputEl = gd.closest('.output');\n",
              "if (outputEl) {{\n",
              "    x.observe(outputEl, {childList: true});\n",
              "}}\n",
              "\n",
              "                        })                };                            </script>        </div>\n",
              "</body>\n",
              "</html>"
            ]
          },
          "metadata": {}
        }
      ]
    },
    {
      "cell_type": "code",
      "source": [
        "# Calculate residuals\n",
        "residuals = Y_test - Y_pred\n",
        "\n",
        "# Create the plot\n",
        "fig = go.Figure()\n",
        "\n",
        "# Add scatter plot for residuals vs fitted values\n",
        "fig.add_trace(go.Scatter(\n",
        "    x=Y_pred,\n",
        "    y=residuals,\n",
        "    mode='markers',\n",
        "    name='Residuals vs Fitted values',\n",
        "    marker=dict(color='blue')\n",
        "))\n",
        "\n",
        "# Add horizontal line at y=0\n",
        "fig.add_shape(\n",
        "    type='line',\n",
        "    x0=min(Y_pred),\n",
        "    x1=max(Y_pred),\n",
        "    y0=0,\n",
        "    y1=0,\n",
        "    line=dict(color='red', width=2, dash='dash')\n",
        ")\n",
        "\n",
        "# Update layout\n",
        "fig.update_layout(\n",
        "    title='Residuals vs Fitted values',\n",
        "    xaxis_title='Fitted values',\n",
        "    yaxis_title='Residuals'\n",
        ")\n",
        "\n",
        "# Show the plot\n",
        "fig.show()\n"
      ],
      "metadata": {
        "colab": {
          "base_uri": "https://localhost:8080/",
          "height": 542
        },
        "id": "L_7TBcRXcYnv",
        "outputId": "1d0c7a2d-426c-4e31-d311-396a27db04bf"
      },
      "execution_count": null,
      "outputs": [
        {
          "output_type": "display_data",
          "data": {
            "text/html": [
              "<html>\n",
              "<head><meta charset=\"utf-8\" /></head>\n",
              "<body>\n",
              "    <div>            <script src=\"https://cdnjs.cloudflare.com/ajax/libs/mathjax/2.7.5/MathJax.js?config=TeX-AMS-MML_SVG\"></script><script type=\"text/javascript\">if (window.MathJax && window.MathJax.Hub && window.MathJax.Hub.Config) {window.MathJax.Hub.Config({SVG: {font: \"STIX-Web\"}});}</script>                <script type=\"text/javascript\">window.PlotlyConfig = {MathJaxConfig: 'local'};</script>\n",
              "        <script charset=\"utf-8\" src=\"https://cdn.plot.ly/plotly-2.24.1.min.js\"></script>                <div id=\"d65fc41f-aed7-4371-a57e-a46c40ba70cb\" class=\"plotly-graph-div\" style=\"height:525px; width:100%;\"></div>            <script type=\"text/javascript\">                                    window.PLOTLYENV=window.PLOTLYENV || {};                                    if (document.getElementById(\"d65fc41f-aed7-4371-a57e-a46c40ba70cb\")) {                    Plotly.newPlot(                        \"d65fc41f-aed7-4371-a57e-a46c40ba70cb\",                        [{\"marker\":{\"color\":\"blue\"},\"mode\":\"markers\",\"name\":\"Residuals vs Fitted values\",\"x\":[29.42418222314345,32.71041505639862,15.083144453942372,25.67950739859632,19.16043385618969,23.738514890809423,17.986202462697356,14.074559418957996,23.4949269575252,20.75310532777883,22.50523817539166,19.49559803683317,-6.544332841672087,22.444289892526307,19.525119418845605,26.758011440929536,20.470674879700333,5.653573724020376,39.61815913598063,17.953408730986556,27.137930269070488,29.4683708889917,11.247954812265178,24.059590931451634,18.081949448628436,16.001232808334578,23.37443557141009,14.795375074223841,19.884329577407325,19.366012548542876,22.656174308362893,25.664797927618267,26.30828755209612,17.97786086035671,17.00734803487898,17.52519074460878,32.067279981942555,20.448869407636725,21.35784505902623,25.282819073374107,13.958509299045712,31.551699389696157,41.20285174383524,17.691945442431148,27.604359440300346,17.20098387175165,13.930525076732334,26.593515106379485,20.75340022406763,30.361839432323457,22.125901058901704,34.94458824179294,16.039965352145643,26.338304868315795,40.141316240530315,23.33134679873581,19.170924806545997,30.96144569525077,25.594354639829298,13.108052023062577,20.81314018574204,29.262571766415306,32.15447151280717,15.818517529361378,20.27419178087174,13.994877265656903,20.809337404301967,25.850512797513456,29.130088646383154,11.720405333484955,21.054449404141504,28.15743626964363,11.096030135410217,14.460996897399564,24.324115804859304,6.1304051221073195,21.46577540595235,39.905590148919984,18.975224404818366,8.946602280954984,21.28855272329936,13.171713363260949,19.94849786296549,9.350753262208116,23.408268674514826,29.72703327232159,19.5268725600001,26.018502553824256,28.68370852083076,20.055368332911257,26.153341390186768,5.515484276039398,20.087991328401106,16.00757493381938,12.39595174322978,20.741232451414934,24.906129347671524,-0.6630043589567478,13.799058127262523,16.142012840166878,22.649779000593735,25.121067340936676],\"y\":[-5.824182223143449,-0.3104150563986181,-1.4831444539423728,-2.8795073985963207,-3.0604338561896895,-3.738514890809423,-0.18620246269735574,-0.07455941895799612,-3.8949269575252004,-3.953105327778829,-1.0052381753916606,-0.5955980368331701,13.544332841672087,-1.2442898925263073,-1.0251194188456054,3.0419885590704645,-1.6706748797003321,4.5464262759796235,10.381840864019367,-3.8534087309865566,-1.9379302690704883,-0.36837088899169856,1.4520451877348215,-1.6595909314516355,-3.8819494486284363,-2.201232808334577,-3.0744355714100884,0.10462492577615912,1.8156704225926745,-1.0660125485428757,0.44382569163710883,-1.864797927618266,-11.308287552096122,2.8221391396432907,2.0926519651210214,1.8748092553912201,2.632720018057448,-0.9488694076367246,3.04215494097377,-1.8828190733741081,5.741490700954287,-3.351699389696158,8.79714825616476,-0.2919454424311496,-5.004359440300345,-2.10098387175165,-0.830525076732334,-2.3935151063794855,-0.8534002240676308,-6.361839432323457,-3.225901058901705,0.45541175820705604,-0.8399653521456436,0.1616951316842048,3.3586837594696846,-2.1313467987358123,-0.7709248065459988,-2.46144569525077,-1.6943546398292995,5.3919479769374234,4.186859814257961,6.137428233584693,-0.6544715128071701,4.3814824706386215,3.8258082191282625,6.005122734343097,-7.709337404301968,-1.0505127975134556,1.6699113536168468,0.9795946665150446,-1.0544494041415042,-4.45743626964363,-0.2960301354102164,6.139003102600437,-3.524115804859303,-1.1304051221073195,-1.3657754059523484,8.594409851080016,-8.075224404818366,-1.946602280954984,-0.3885527232993624,4.02828663673905,0.9515021370345096,0.34924673779188353,-4.008268674514827,-0.7270332723215915,-3.126872560000102,-1.0185025538242556,-3.683708520830759,-2.955368332911256,-2.9533413901867682,4.884515723960602,-0.4879913284011046,1.1924250661806184,15.10404825677022,2.258767548585066,25.093870652328476,18.563004358956746,-4.199058127262523,1.0579871598331216,-0.1497790005937354,-3.7210673409366777],\"type\":\"scatter\"}],                        {\"template\":{\"data\":{\"histogram2dcontour\":[{\"type\":\"histogram2dcontour\",\"colorbar\":{\"outlinewidth\":0,\"ticks\":\"\"},\"colorscale\":[[0.0,\"#0d0887\"],[0.1111111111111111,\"#46039f\"],[0.2222222222222222,\"#7201a8\"],[0.3333333333333333,\"#9c179e\"],[0.4444444444444444,\"#bd3786\"],[0.5555555555555556,\"#d8576b\"],[0.6666666666666666,\"#ed7953\"],[0.7777777777777778,\"#fb9f3a\"],[0.8888888888888888,\"#fdca26\"],[1.0,\"#f0f921\"]]}],\"choropleth\":[{\"type\":\"choropleth\",\"colorbar\":{\"outlinewidth\":0,\"ticks\":\"\"}}],\"histogram2d\":[{\"type\":\"histogram2d\",\"colorbar\":{\"outlinewidth\":0,\"ticks\":\"\"},\"colorscale\":[[0.0,\"#0d0887\"],[0.1111111111111111,\"#46039f\"],[0.2222222222222222,\"#7201a8\"],[0.3333333333333333,\"#9c179e\"],[0.4444444444444444,\"#bd3786\"],[0.5555555555555556,\"#d8576b\"],[0.6666666666666666,\"#ed7953\"],[0.7777777777777778,\"#fb9f3a\"],[0.8888888888888888,\"#fdca26\"],[1.0,\"#f0f921\"]]}],\"heatmap\":[{\"type\":\"heatmap\",\"colorbar\":{\"outlinewidth\":0,\"ticks\":\"\"},\"colorscale\":[[0.0,\"#0d0887\"],[0.1111111111111111,\"#46039f\"],[0.2222222222222222,\"#7201a8\"],[0.3333333333333333,\"#9c179e\"],[0.4444444444444444,\"#bd3786\"],[0.5555555555555556,\"#d8576b\"],[0.6666666666666666,\"#ed7953\"],[0.7777777777777778,\"#fb9f3a\"],[0.8888888888888888,\"#fdca26\"],[1.0,\"#f0f921\"]]}],\"heatmapgl\":[{\"type\":\"heatmapgl\",\"colorbar\":{\"outlinewidth\":0,\"ticks\":\"\"},\"colorscale\":[[0.0,\"#0d0887\"],[0.1111111111111111,\"#46039f\"],[0.2222222222222222,\"#7201a8\"],[0.3333333333333333,\"#9c179e\"],[0.4444444444444444,\"#bd3786\"],[0.5555555555555556,\"#d8576b\"],[0.6666666666666666,\"#ed7953\"],[0.7777777777777778,\"#fb9f3a\"],[0.8888888888888888,\"#fdca26\"],[1.0,\"#f0f921\"]]}],\"contourcarpet\":[{\"type\":\"contourcarpet\",\"colorbar\":{\"outlinewidth\":0,\"ticks\":\"\"}}],\"contour\":[{\"type\":\"contour\",\"colorbar\":{\"outlinewidth\":0,\"ticks\":\"\"},\"colorscale\":[[0.0,\"#0d0887\"],[0.1111111111111111,\"#46039f\"],[0.2222222222222222,\"#7201a8\"],[0.3333333333333333,\"#9c179e\"],[0.4444444444444444,\"#bd3786\"],[0.5555555555555556,\"#d8576b\"],[0.6666666666666666,\"#ed7953\"],[0.7777777777777778,\"#fb9f3a\"],[0.8888888888888888,\"#fdca26\"],[1.0,\"#f0f921\"]]}],\"surface\":[{\"type\":\"surface\",\"colorbar\":{\"outlinewidth\":0,\"ticks\":\"\"},\"colorscale\":[[0.0,\"#0d0887\"],[0.1111111111111111,\"#46039f\"],[0.2222222222222222,\"#7201a8\"],[0.3333333333333333,\"#9c179e\"],[0.4444444444444444,\"#bd3786\"],[0.5555555555555556,\"#d8576b\"],[0.6666666666666666,\"#ed7953\"],[0.7777777777777778,\"#fb9f3a\"],[0.8888888888888888,\"#fdca26\"],[1.0,\"#f0f921\"]]}],\"mesh3d\":[{\"type\":\"mesh3d\",\"colorbar\":{\"outlinewidth\":0,\"ticks\":\"\"}}],\"scatter\":[{\"fillpattern\":{\"fillmode\":\"overlay\",\"size\":10,\"solidity\":0.2},\"type\":\"scatter\"}],\"parcoords\":[{\"type\":\"parcoords\",\"line\":{\"colorbar\":{\"outlinewidth\":0,\"ticks\":\"\"}}}],\"scatterpolargl\":[{\"type\":\"scatterpolargl\",\"marker\":{\"colorbar\":{\"outlinewidth\":0,\"ticks\":\"\"}}}],\"bar\":[{\"error_x\":{\"color\":\"#2a3f5f\"},\"error_y\":{\"color\":\"#2a3f5f\"},\"marker\":{\"line\":{\"color\":\"#E5ECF6\",\"width\":0.5},\"pattern\":{\"fillmode\":\"overlay\",\"size\":10,\"solidity\":0.2}},\"type\":\"bar\"}],\"scattergeo\":[{\"type\":\"scattergeo\",\"marker\":{\"colorbar\":{\"outlinewidth\":0,\"ticks\":\"\"}}}],\"scatterpolar\":[{\"type\":\"scatterpolar\",\"marker\":{\"colorbar\":{\"outlinewidth\":0,\"ticks\":\"\"}}}],\"histogram\":[{\"marker\":{\"pattern\":{\"fillmode\":\"overlay\",\"size\":10,\"solidity\":0.2}},\"type\":\"histogram\"}],\"scattergl\":[{\"type\":\"scattergl\",\"marker\":{\"colorbar\":{\"outlinewidth\":0,\"ticks\":\"\"}}}],\"scatter3d\":[{\"type\":\"scatter3d\",\"line\":{\"colorbar\":{\"outlinewidth\":0,\"ticks\":\"\"}},\"marker\":{\"colorbar\":{\"outlinewidth\":0,\"ticks\":\"\"}}}],\"scattermapbox\":[{\"type\":\"scattermapbox\",\"marker\":{\"colorbar\":{\"outlinewidth\":0,\"ticks\":\"\"}}}],\"scatterternary\":[{\"type\":\"scatterternary\",\"marker\":{\"colorbar\":{\"outlinewidth\":0,\"ticks\":\"\"}}}],\"scattercarpet\":[{\"type\":\"scattercarpet\",\"marker\":{\"colorbar\":{\"outlinewidth\":0,\"ticks\":\"\"}}}],\"carpet\":[{\"aaxis\":{\"endlinecolor\":\"#2a3f5f\",\"gridcolor\":\"white\",\"linecolor\":\"white\",\"minorgridcolor\":\"white\",\"startlinecolor\":\"#2a3f5f\"},\"baxis\":{\"endlinecolor\":\"#2a3f5f\",\"gridcolor\":\"white\",\"linecolor\":\"white\",\"minorgridcolor\":\"white\",\"startlinecolor\":\"#2a3f5f\"},\"type\":\"carpet\"}],\"table\":[{\"cells\":{\"fill\":{\"color\":\"#EBF0F8\"},\"line\":{\"color\":\"white\"}},\"header\":{\"fill\":{\"color\":\"#C8D4E3\"},\"line\":{\"color\":\"white\"}},\"type\":\"table\"}],\"barpolar\":[{\"marker\":{\"line\":{\"color\":\"#E5ECF6\",\"width\":0.5},\"pattern\":{\"fillmode\":\"overlay\",\"size\":10,\"solidity\":0.2}},\"type\":\"barpolar\"}],\"pie\":[{\"automargin\":true,\"type\":\"pie\"}]},\"layout\":{\"autotypenumbers\":\"strict\",\"colorway\":[\"#636efa\",\"#EF553B\",\"#00cc96\",\"#ab63fa\",\"#FFA15A\",\"#19d3f3\",\"#FF6692\",\"#B6E880\",\"#FF97FF\",\"#FECB52\"],\"font\":{\"color\":\"#2a3f5f\"},\"hovermode\":\"closest\",\"hoverlabel\":{\"align\":\"left\"},\"paper_bgcolor\":\"white\",\"plot_bgcolor\":\"#E5ECF6\",\"polar\":{\"bgcolor\":\"#E5ECF6\",\"angularaxis\":{\"gridcolor\":\"white\",\"linecolor\":\"white\",\"ticks\":\"\"},\"radialaxis\":{\"gridcolor\":\"white\",\"linecolor\":\"white\",\"ticks\":\"\"}},\"ternary\":{\"bgcolor\":\"#E5ECF6\",\"aaxis\":{\"gridcolor\":\"white\",\"linecolor\":\"white\",\"ticks\":\"\"},\"baxis\":{\"gridcolor\":\"white\",\"linecolor\":\"white\",\"ticks\":\"\"},\"caxis\":{\"gridcolor\":\"white\",\"linecolor\":\"white\",\"ticks\":\"\"}},\"coloraxis\":{\"colorbar\":{\"outlinewidth\":0,\"ticks\":\"\"}},\"colorscale\":{\"sequential\":[[0.0,\"#0d0887\"],[0.1111111111111111,\"#46039f\"],[0.2222222222222222,\"#7201a8\"],[0.3333333333333333,\"#9c179e\"],[0.4444444444444444,\"#bd3786\"],[0.5555555555555556,\"#d8576b\"],[0.6666666666666666,\"#ed7953\"],[0.7777777777777778,\"#fb9f3a\"],[0.8888888888888888,\"#fdca26\"],[1.0,\"#f0f921\"]],\"sequentialminus\":[[0.0,\"#0d0887\"],[0.1111111111111111,\"#46039f\"],[0.2222222222222222,\"#7201a8\"],[0.3333333333333333,\"#9c179e\"],[0.4444444444444444,\"#bd3786\"],[0.5555555555555556,\"#d8576b\"],[0.6666666666666666,\"#ed7953\"],[0.7777777777777778,\"#fb9f3a\"],[0.8888888888888888,\"#fdca26\"],[1.0,\"#f0f921\"]],\"diverging\":[[0,\"#8e0152\"],[0.1,\"#c51b7d\"],[0.2,\"#de77ae\"],[0.3,\"#f1b6da\"],[0.4,\"#fde0ef\"],[0.5,\"#f7f7f7\"],[0.6,\"#e6f5d0\"],[0.7,\"#b8e186\"],[0.8,\"#7fbc41\"],[0.9,\"#4d9221\"],[1,\"#276419\"]]},\"xaxis\":{\"gridcolor\":\"white\",\"linecolor\":\"white\",\"ticks\":\"\",\"title\":{\"standoff\":15},\"zerolinecolor\":\"white\",\"automargin\":true,\"zerolinewidth\":2},\"yaxis\":{\"gridcolor\":\"white\",\"linecolor\":\"white\",\"ticks\":\"\",\"title\":{\"standoff\":15},\"zerolinecolor\":\"white\",\"automargin\":true,\"zerolinewidth\":2},\"scene\":{\"xaxis\":{\"backgroundcolor\":\"#E5ECF6\",\"gridcolor\":\"white\",\"linecolor\":\"white\",\"showbackground\":true,\"ticks\":\"\",\"zerolinecolor\":\"white\",\"gridwidth\":2},\"yaxis\":{\"backgroundcolor\":\"#E5ECF6\",\"gridcolor\":\"white\",\"linecolor\":\"white\",\"showbackground\":true,\"ticks\":\"\",\"zerolinecolor\":\"white\",\"gridwidth\":2},\"zaxis\":{\"backgroundcolor\":\"#E5ECF6\",\"gridcolor\":\"white\",\"linecolor\":\"white\",\"showbackground\":true,\"ticks\":\"\",\"zerolinecolor\":\"white\",\"gridwidth\":2}},\"shapedefaults\":{\"line\":{\"color\":\"#2a3f5f\"}},\"annotationdefaults\":{\"arrowcolor\":\"#2a3f5f\",\"arrowhead\":0,\"arrowwidth\":1},\"geo\":{\"bgcolor\":\"white\",\"landcolor\":\"#E5ECF6\",\"subunitcolor\":\"white\",\"showland\":true,\"showlakes\":true,\"lakecolor\":\"white\"},\"title\":{\"x\":0.05},\"mapbox\":{\"style\":\"light\"}}},\"shapes\":[{\"line\":{\"color\":\"red\",\"dash\":\"dash\",\"width\":2},\"type\":\"line\",\"x0\":-6.544332841672087,\"x1\":41.20285174383524,\"y0\":0,\"y1\":0}],\"title\":{\"text\":\"Residuals vs Fitted values\"},\"xaxis\":{\"title\":{\"text\":\"Fitted values\"}},\"yaxis\":{\"title\":{\"text\":\"Residuals\"}}},                        {\"responsive\": true}                    ).then(function(){\n",
              "                            \n",
              "var gd = document.getElementById('d65fc41f-aed7-4371-a57e-a46c40ba70cb');\n",
              "var x = new MutationObserver(function (mutations, observer) {{\n",
              "        var display = window.getComputedStyle(gd).display;\n",
              "        if (!display || display === 'none') {{\n",
              "            console.log([gd, 'removed!']);\n",
              "            Plotly.purge(gd);\n",
              "            observer.disconnect();\n",
              "        }}\n",
              "}});\n",
              "\n",
              "// Listen for the removal of the full notebook cells\n",
              "var notebookContainer = gd.closest('#notebook-container');\n",
              "if (notebookContainer) {{\n",
              "    x.observe(notebookContainer, {childList: true});\n",
              "}}\n",
              "\n",
              "// Listen for the clearing of the current output cell\n",
              "var outputEl = gd.closest('.output');\n",
              "if (outputEl) {{\n",
              "    x.observe(outputEl, {childList: true});\n",
              "}}\n",
              "\n",
              "                        })                };                            </script>        </div>\n",
              "</body>\n",
              "</html>"
            ]
          },
          "metadata": {}
        }
      ]
    },
    {
      "cell_type": "code",
      "source": [
        "\n",
        "import scipy.stats as stats\n",
        "\n",
        "# Calculating Q-Q plot values\n",
        "quantiles = np.linspace(0, 1, len(residuals))\n",
        "theoretical_quantiles = stats.norm.ppf(quantiles)\n",
        "sample_quantiles = np.sort(residuals)\n",
        "\n",
        "# Q-Q Plot\n",
        "fig_qq = go.Figure()\n",
        "\n",
        "fig_qq.add_trace(go.Scatter(\n",
        "    x=theoretical_quantiles,\n",
        "    y=sample_quantiles,\n",
        "    mode='markers',\n",
        "    name='Q-Q Plot'\n",
        "))\n",
        "\n",
        "fig_qq.add_trace(go.Scatter(\n",
        "    x=theoretical_quantiles,\n",
        "    y=theoretical_quantiles,\n",
        "    mode='lines',\n",
        "    name='45-degree line',\n",
        "    line=dict(color='red', dash='dash')\n",
        "))\n",
        "\n",
        "fig_qq.update_layout(\n",
        "    title='Q-Q Plot',\n",
        "    xaxis_title='Theoretical Quantiles',\n",
        "    yaxis_title='Sample Quantiles'\n",
        ")\n",
        "\n",
        "fig_qq.show()\n",
        "\n",
        "# Histogram of Residuals\n",
        "fig_hist = go.Figure()\n",
        "\n",
        "fig_hist.add_trace(go.Histogram(\n",
        "    x=residuals,\n",
        "    nbinsx=30,\n",
        "    marker=dict(color='blue', line=dict(color='black', width=1))\n",
        "))\n",
        "\n",
        "fig_hist.update_layout(\n",
        "    title='Histogram of Residuals',\n",
        "    xaxis_title='Residuals',\n",
        "    yaxis_title='Frequency'\n",
        ")\n",
        "\n",
        "fig_hist.show()\n"
      ],
      "metadata": {
        "colab": {
          "base_uri": "https://localhost:8080/",
          "height": 1000
        },
        "id": "gt2FFYNLc4Y0",
        "outputId": "87c9480d-24d6-49c7-b8a0-976484ebf3da"
      },
      "execution_count": null,
      "outputs": [
        {
          "output_type": "display_data",
          "data": {
            "text/html": [
              "<html>\n",
              "<head><meta charset=\"utf-8\" /></head>\n",
              "<body>\n",
              "    <div>            <script src=\"https://cdnjs.cloudflare.com/ajax/libs/mathjax/2.7.5/MathJax.js?config=TeX-AMS-MML_SVG\"></script><script type=\"text/javascript\">if (window.MathJax && window.MathJax.Hub && window.MathJax.Hub.Config) {window.MathJax.Hub.Config({SVG: {font: \"STIX-Web\"}});}</script>                <script type=\"text/javascript\">window.PlotlyConfig = {MathJaxConfig: 'local'};</script>\n",
              "        <script charset=\"utf-8\" src=\"https://cdn.plot.ly/plotly-2.24.1.min.js\"></script>                <div id=\"f2d1a7a0-394b-42f5-9ed6-f8d34238d943\" class=\"plotly-graph-div\" style=\"height:525px; width:100%;\"></div>            <script type=\"text/javascript\">                                    window.PLOTLYENV=window.PLOTLYENV || {};                                    if (document.getElementById(\"f2d1a7a0-394b-42f5-9ed6-f8d34238d943\")) {                    Plotly.newPlot(                        \"f2d1a7a0-394b-42f5-9ed6-f8d34238d943\",                        [{\"mode\":\"markers\",\"name\":\"Q-Q Plot\",\"x\":[null,-2.330078922787911,-2.0578559805954546,-1.8851770324320443,-1.75530050130824,-1.649672679353478,-1.5597799921032536,-1.480972651368176,-1.4104195313382353,-1.3462626652319192,-1.2872137328173294,-1.2323408611117501,-1.1809470407966427,-1.132496529618965,-1.086568114986069,-1.0428242390384295,-1.0009899168818812,-0.9608379310031608,-0.9221781782775869,-0.8848498412982431,-0.8487155274221447,-0.8136568081151939,-0.7795707737384843,-0.746367337187046,-0.713967098197978,-0.6822996332113872,-0.6513021122615636,-0.6209181700422963,-0.5910969765728049,-0.5617924660992517,-0.5329626925342973,-0.5045692868981857,-0.4765769975882356,-0.44895329836199876,-0.4216680520195305,-0.3946932201593914,-0.3680026112393317,-0.341571660625871,-0.3153772374626603,-0.28939747409646166,-0.2636116145249011,-0.23799987891187127,-0.212543341685061,-0.18722382110885646,-0.162023778532748,-0.13692622576424984,-0.11191463921698815,-0.08697287964740107,-0.06208511642395301,-0.03723575537593384,-0.012409369348679852,0.012409369348679852,0.03723575537593384,0.06208511642395301,0.0869728796474012,0.11191463921698828,0.13692622576424998,0.16202377853274813,0.1872238211088563,0.21254334168506087,0.23799987891187127,0.2636116145249011,0.28939747409646166,0.3153772374626603,0.341571660625871,0.3680026112393317,0.3946932201593915,0.4216680520195306,0.448953298361999,0.4765769975882358,0.5045692868981859,0.5329626925342971,0.5617924660992515,0.5910969765728049,0.6209181700422963,0.6513021122615636,0.6822996332113872,0.713967098197978,0.746367337187046,0.7795707737384843,0.8136568081151939,0.848715527422145,0.8848498412982432,0.9221781782775871,0.9608379310031608,1.0009899168818812,1.0428242390384295,1.086568114986069,1.132496529618965,1.1809470407966427,1.2323408611117501,1.2872137328173303,1.3462626652319198,1.4104195313382353,1.480972651368176,1.5597799921032542,1.6496726793534775,1.75530050130824,1.8851770324320436,2.0578559805954537,2.3300789227879104,null],\"y\":[-11.308287552096122,-8.075224404818366,-7.709337404301968,-6.361839432323457,-5.824182223143449,-5.004359440300345,-4.45743626964363,-4.199058127262523,-4.008268674514827,-3.953105327778829,-3.8949269575252004,-3.8819494486284363,-3.8534087309865566,-3.738514890809423,-3.7210673409366777,-3.683708520830759,-3.524115804859303,-3.351699389696158,-3.225901058901705,-3.126872560000102,-3.0744355714100884,-3.0604338561896895,-2.955368332911256,-2.9533413901867682,-2.8795073985963207,-2.46144569525077,-2.3935151063794855,-2.201232808334577,-2.1313467987358123,-2.10098387175165,-1.946602280954984,-1.9379302690704883,-1.8828190733741081,-1.864797927618266,-1.6943546398292995,-1.6706748797003321,-1.6595909314516355,-1.4831444539423728,-1.3657754059523484,-1.2442898925263073,-1.1304051221073195,-1.0660125485428757,-1.0544494041415042,-1.0505127975134556,-1.0251194188456054,-1.0185025538242556,-1.0052381753916606,-0.9488694076367246,-0.8534002240676308,-0.8399653521456436,-0.830525076732334,-0.7709248065459988,-0.7270332723215915,-0.6544715128071701,-0.5955980368331701,-0.4879913284011046,-0.3885527232993624,-0.36837088899169856,-0.3104150563986181,-0.2960301354102164,-0.2919454424311496,-0.18620246269735574,-0.1497790005937354,-0.07455941895799612,0.10462492577615912,0.1616951316842048,0.34924673779188353,0.44382569163710883,0.45541175820705604,0.9515021370345096,0.9795946665150446,1.0579871598331216,1.1924250661806184,1.4520451877348215,1.6699113536168468,1.8156704225926745,1.8748092553912201,2.0926519651210214,2.258767548585066,2.632720018057448,2.8221391396432907,3.0419885590704645,3.04215494097377,3.3586837594696846,3.8258082191282625,4.02828663673905,4.186859814257961,4.3814824706386215,4.5464262759796235,4.884515723960602,5.3919479769374234,5.741490700954287,6.005122734343097,6.137428233584693,6.139003102600437,8.594409851080016,8.79714825616476,10.381840864019367,13.544332841672087,15.10404825677022,18.563004358956746,25.093870652328476],\"type\":\"scatter\"},{\"line\":{\"color\":\"red\",\"dash\":\"dash\"},\"mode\":\"lines\",\"name\":\"45-degree line\",\"x\":[null,-2.330078922787911,-2.0578559805954546,-1.8851770324320443,-1.75530050130824,-1.649672679353478,-1.5597799921032536,-1.480972651368176,-1.4104195313382353,-1.3462626652319192,-1.2872137328173294,-1.2323408611117501,-1.1809470407966427,-1.132496529618965,-1.086568114986069,-1.0428242390384295,-1.0009899168818812,-0.9608379310031608,-0.9221781782775869,-0.8848498412982431,-0.8487155274221447,-0.8136568081151939,-0.7795707737384843,-0.746367337187046,-0.713967098197978,-0.6822996332113872,-0.6513021122615636,-0.6209181700422963,-0.5910969765728049,-0.5617924660992517,-0.5329626925342973,-0.5045692868981857,-0.4765769975882356,-0.44895329836199876,-0.4216680520195305,-0.3946932201593914,-0.3680026112393317,-0.341571660625871,-0.3153772374626603,-0.28939747409646166,-0.2636116145249011,-0.23799987891187127,-0.212543341685061,-0.18722382110885646,-0.162023778532748,-0.13692622576424984,-0.11191463921698815,-0.08697287964740107,-0.06208511642395301,-0.03723575537593384,-0.012409369348679852,0.012409369348679852,0.03723575537593384,0.06208511642395301,0.0869728796474012,0.11191463921698828,0.13692622576424998,0.16202377853274813,0.1872238211088563,0.21254334168506087,0.23799987891187127,0.2636116145249011,0.28939747409646166,0.3153772374626603,0.341571660625871,0.3680026112393317,0.3946932201593915,0.4216680520195306,0.448953298361999,0.4765769975882358,0.5045692868981859,0.5329626925342971,0.5617924660992515,0.5910969765728049,0.6209181700422963,0.6513021122615636,0.6822996332113872,0.713967098197978,0.746367337187046,0.7795707737384843,0.8136568081151939,0.848715527422145,0.8848498412982432,0.9221781782775871,0.9608379310031608,1.0009899168818812,1.0428242390384295,1.086568114986069,1.132496529618965,1.1809470407966427,1.2323408611117501,1.2872137328173303,1.3462626652319198,1.4104195313382353,1.480972651368176,1.5597799921032542,1.6496726793534775,1.75530050130824,1.8851770324320436,2.0578559805954537,2.3300789227879104,null],\"y\":[null,-2.330078922787911,-2.0578559805954546,-1.8851770324320443,-1.75530050130824,-1.649672679353478,-1.5597799921032536,-1.480972651368176,-1.4104195313382353,-1.3462626652319192,-1.2872137328173294,-1.2323408611117501,-1.1809470407966427,-1.132496529618965,-1.086568114986069,-1.0428242390384295,-1.0009899168818812,-0.9608379310031608,-0.9221781782775869,-0.8848498412982431,-0.8487155274221447,-0.8136568081151939,-0.7795707737384843,-0.746367337187046,-0.713967098197978,-0.6822996332113872,-0.6513021122615636,-0.6209181700422963,-0.5910969765728049,-0.5617924660992517,-0.5329626925342973,-0.5045692868981857,-0.4765769975882356,-0.44895329836199876,-0.4216680520195305,-0.3946932201593914,-0.3680026112393317,-0.341571660625871,-0.3153772374626603,-0.28939747409646166,-0.2636116145249011,-0.23799987891187127,-0.212543341685061,-0.18722382110885646,-0.162023778532748,-0.13692622576424984,-0.11191463921698815,-0.08697287964740107,-0.06208511642395301,-0.03723575537593384,-0.012409369348679852,0.012409369348679852,0.03723575537593384,0.06208511642395301,0.0869728796474012,0.11191463921698828,0.13692622576424998,0.16202377853274813,0.1872238211088563,0.21254334168506087,0.23799987891187127,0.2636116145249011,0.28939747409646166,0.3153772374626603,0.341571660625871,0.3680026112393317,0.3946932201593915,0.4216680520195306,0.448953298361999,0.4765769975882358,0.5045692868981859,0.5329626925342971,0.5617924660992515,0.5910969765728049,0.6209181700422963,0.6513021122615636,0.6822996332113872,0.713967098197978,0.746367337187046,0.7795707737384843,0.8136568081151939,0.848715527422145,0.8848498412982432,0.9221781782775871,0.9608379310031608,1.0009899168818812,1.0428242390384295,1.086568114986069,1.132496529618965,1.1809470407966427,1.2323408611117501,1.2872137328173303,1.3462626652319198,1.4104195313382353,1.480972651368176,1.5597799921032542,1.6496726793534775,1.75530050130824,1.8851770324320436,2.0578559805954537,2.3300789227879104,null],\"type\":\"scatter\"}],                        {\"template\":{\"data\":{\"histogram2dcontour\":[{\"type\":\"histogram2dcontour\",\"colorbar\":{\"outlinewidth\":0,\"ticks\":\"\"},\"colorscale\":[[0.0,\"#0d0887\"],[0.1111111111111111,\"#46039f\"],[0.2222222222222222,\"#7201a8\"],[0.3333333333333333,\"#9c179e\"],[0.4444444444444444,\"#bd3786\"],[0.5555555555555556,\"#d8576b\"],[0.6666666666666666,\"#ed7953\"],[0.7777777777777778,\"#fb9f3a\"],[0.8888888888888888,\"#fdca26\"],[1.0,\"#f0f921\"]]}],\"choropleth\":[{\"type\":\"choropleth\",\"colorbar\":{\"outlinewidth\":0,\"ticks\":\"\"}}],\"histogram2d\":[{\"type\":\"histogram2d\",\"colorbar\":{\"outlinewidth\":0,\"ticks\":\"\"},\"colorscale\":[[0.0,\"#0d0887\"],[0.1111111111111111,\"#46039f\"],[0.2222222222222222,\"#7201a8\"],[0.3333333333333333,\"#9c179e\"],[0.4444444444444444,\"#bd3786\"],[0.5555555555555556,\"#d8576b\"],[0.6666666666666666,\"#ed7953\"],[0.7777777777777778,\"#fb9f3a\"],[0.8888888888888888,\"#fdca26\"],[1.0,\"#f0f921\"]]}],\"heatmap\":[{\"type\":\"heatmap\",\"colorbar\":{\"outlinewidth\":0,\"ticks\":\"\"},\"colorscale\":[[0.0,\"#0d0887\"],[0.1111111111111111,\"#46039f\"],[0.2222222222222222,\"#7201a8\"],[0.3333333333333333,\"#9c179e\"],[0.4444444444444444,\"#bd3786\"],[0.5555555555555556,\"#d8576b\"],[0.6666666666666666,\"#ed7953\"],[0.7777777777777778,\"#fb9f3a\"],[0.8888888888888888,\"#fdca26\"],[1.0,\"#f0f921\"]]}],\"heatmapgl\":[{\"type\":\"heatmapgl\",\"colorbar\":{\"outlinewidth\":0,\"ticks\":\"\"},\"colorscale\":[[0.0,\"#0d0887\"],[0.1111111111111111,\"#46039f\"],[0.2222222222222222,\"#7201a8\"],[0.3333333333333333,\"#9c179e\"],[0.4444444444444444,\"#bd3786\"],[0.5555555555555556,\"#d8576b\"],[0.6666666666666666,\"#ed7953\"],[0.7777777777777778,\"#fb9f3a\"],[0.8888888888888888,\"#fdca26\"],[1.0,\"#f0f921\"]]}],\"contourcarpet\":[{\"type\":\"contourcarpet\",\"colorbar\":{\"outlinewidth\":0,\"ticks\":\"\"}}],\"contour\":[{\"type\":\"contour\",\"colorbar\":{\"outlinewidth\":0,\"ticks\":\"\"},\"colorscale\":[[0.0,\"#0d0887\"],[0.1111111111111111,\"#46039f\"],[0.2222222222222222,\"#7201a8\"],[0.3333333333333333,\"#9c179e\"],[0.4444444444444444,\"#bd3786\"],[0.5555555555555556,\"#d8576b\"],[0.6666666666666666,\"#ed7953\"],[0.7777777777777778,\"#fb9f3a\"],[0.8888888888888888,\"#fdca26\"],[1.0,\"#f0f921\"]]}],\"surface\":[{\"type\":\"surface\",\"colorbar\":{\"outlinewidth\":0,\"ticks\":\"\"},\"colorscale\":[[0.0,\"#0d0887\"],[0.1111111111111111,\"#46039f\"],[0.2222222222222222,\"#7201a8\"],[0.3333333333333333,\"#9c179e\"],[0.4444444444444444,\"#bd3786\"],[0.5555555555555556,\"#d8576b\"],[0.6666666666666666,\"#ed7953\"],[0.7777777777777778,\"#fb9f3a\"],[0.8888888888888888,\"#fdca26\"],[1.0,\"#f0f921\"]]}],\"mesh3d\":[{\"type\":\"mesh3d\",\"colorbar\":{\"outlinewidth\":0,\"ticks\":\"\"}}],\"scatter\":[{\"fillpattern\":{\"fillmode\":\"overlay\",\"size\":10,\"solidity\":0.2},\"type\":\"scatter\"}],\"parcoords\":[{\"type\":\"parcoords\",\"line\":{\"colorbar\":{\"outlinewidth\":0,\"ticks\":\"\"}}}],\"scatterpolargl\":[{\"type\":\"scatterpolargl\",\"marker\":{\"colorbar\":{\"outlinewidth\":0,\"ticks\":\"\"}}}],\"bar\":[{\"error_x\":{\"color\":\"#2a3f5f\"},\"error_y\":{\"color\":\"#2a3f5f\"},\"marker\":{\"line\":{\"color\":\"#E5ECF6\",\"width\":0.5},\"pattern\":{\"fillmode\":\"overlay\",\"size\":10,\"solidity\":0.2}},\"type\":\"bar\"}],\"scattergeo\":[{\"type\":\"scattergeo\",\"marker\":{\"colorbar\":{\"outlinewidth\":0,\"ticks\":\"\"}}}],\"scatterpolar\":[{\"type\":\"scatterpolar\",\"marker\":{\"colorbar\":{\"outlinewidth\":0,\"ticks\":\"\"}}}],\"histogram\":[{\"marker\":{\"pattern\":{\"fillmode\":\"overlay\",\"size\":10,\"solidity\":0.2}},\"type\":\"histogram\"}],\"scattergl\":[{\"type\":\"scattergl\",\"marker\":{\"colorbar\":{\"outlinewidth\":0,\"ticks\":\"\"}}}],\"scatter3d\":[{\"type\":\"scatter3d\",\"line\":{\"colorbar\":{\"outlinewidth\":0,\"ticks\":\"\"}},\"marker\":{\"colorbar\":{\"outlinewidth\":0,\"ticks\":\"\"}}}],\"scattermapbox\":[{\"type\":\"scattermapbox\",\"marker\":{\"colorbar\":{\"outlinewidth\":0,\"ticks\":\"\"}}}],\"scatterternary\":[{\"type\":\"scatterternary\",\"marker\":{\"colorbar\":{\"outlinewidth\":0,\"ticks\":\"\"}}}],\"scattercarpet\":[{\"type\":\"scattercarpet\",\"marker\":{\"colorbar\":{\"outlinewidth\":0,\"ticks\":\"\"}}}],\"carpet\":[{\"aaxis\":{\"endlinecolor\":\"#2a3f5f\",\"gridcolor\":\"white\",\"linecolor\":\"white\",\"minorgridcolor\":\"white\",\"startlinecolor\":\"#2a3f5f\"},\"baxis\":{\"endlinecolor\":\"#2a3f5f\",\"gridcolor\":\"white\",\"linecolor\":\"white\",\"minorgridcolor\":\"white\",\"startlinecolor\":\"#2a3f5f\"},\"type\":\"carpet\"}],\"table\":[{\"cells\":{\"fill\":{\"color\":\"#EBF0F8\"},\"line\":{\"color\":\"white\"}},\"header\":{\"fill\":{\"color\":\"#C8D4E3\"},\"line\":{\"color\":\"white\"}},\"type\":\"table\"}],\"barpolar\":[{\"marker\":{\"line\":{\"color\":\"#E5ECF6\",\"width\":0.5},\"pattern\":{\"fillmode\":\"overlay\",\"size\":10,\"solidity\":0.2}},\"type\":\"barpolar\"}],\"pie\":[{\"automargin\":true,\"type\":\"pie\"}]},\"layout\":{\"autotypenumbers\":\"strict\",\"colorway\":[\"#636efa\",\"#EF553B\",\"#00cc96\",\"#ab63fa\",\"#FFA15A\",\"#19d3f3\",\"#FF6692\",\"#B6E880\",\"#FF97FF\",\"#FECB52\"],\"font\":{\"color\":\"#2a3f5f\"},\"hovermode\":\"closest\",\"hoverlabel\":{\"align\":\"left\"},\"paper_bgcolor\":\"white\",\"plot_bgcolor\":\"#E5ECF6\",\"polar\":{\"bgcolor\":\"#E5ECF6\",\"angularaxis\":{\"gridcolor\":\"white\",\"linecolor\":\"white\",\"ticks\":\"\"},\"radialaxis\":{\"gridcolor\":\"white\",\"linecolor\":\"white\",\"ticks\":\"\"}},\"ternary\":{\"bgcolor\":\"#E5ECF6\",\"aaxis\":{\"gridcolor\":\"white\",\"linecolor\":\"white\",\"ticks\":\"\"},\"baxis\":{\"gridcolor\":\"white\",\"linecolor\":\"white\",\"ticks\":\"\"},\"caxis\":{\"gridcolor\":\"white\",\"linecolor\":\"white\",\"ticks\":\"\"}},\"coloraxis\":{\"colorbar\":{\"outlinewidth\":0,\"ticks\":\"\"}},\"colorscale\":{\"sequential\":[[0.0,\"#0d0887\"],[0.1111111111111111,\"#46039f\"],[0.2222222222222222,\"#7201a8\"],[0.3333333333333333,\"#9c179e\"],[0.4444444444444444,\"#bd3786\"],[0.5555555555555556,\"#d8576b\"],[0.6666666666666666,\"#ed7953\"],[0.7777777777777778,\"#fb9f3a\"],[0.8888888888888888,\"#fdca26\"],[1.0,\"#f0f921\"]],\"sequentialminus\":[[0.0,\"#0d0887\"],[0.1111111111111111,\"#46039f\"],[0.2222222222222222,\"#7201a8\"],[0.3333333333333333,\"#9c179e\"],[0.4444444444444444,\"#bd3786\"],[0.5555555555555556,\"#d8576b\"],[0.6666666666666666,\"#ed7953\"],[0.7777777777777778,\"#fb9f3a\"],[0.8888888888888888,\"#fdca26\"],[1.0,\"#f0f921\"]],\"diverging\":[[0,\"#8e0152\"],[0.1,\"#c51b7d\"],[0.2,\"#de77ae\"],[0.3,\"#f1b6da\"],[0.4,\"#fde0ef\"],[0.5,\"#f7f7f7\"],[0.6,\"#e6f5d0\"],[0.7,\"#b8e186\"],[0.8,\"#7fbc41\"],[0.9,\"#4d9221\"],[1,\"#276419\"]]},\"xaxis\":{\"gridcolor\":\"white\",\"linecolor\":\"white\",\"ticks\":\"\",\"title\":{\"standoff\":15},\"zerolinecolor\":\"white\",\"automargin\":true,\"zerolinewidth\":2},\"yaxis\":{\"gridcolor\":\"white\",\"linecolor\":\"white\",\"ticks\":\"\",\"title\":{\"standoff\":15},\"zerolinecolor\":\"white\",\"automargin\":true,\"zerolinewidth\":2},\"scene\":{\"xaxis\":{\"backgroundcolor\":\"#E5ECF6\",\"gridcolor\":\"white\",\"linecolor\":\"white\",\"showbackground\":true,\"ticks\":\"\",\"zerolinecolor\":\"white\",\"gridwidth\":2},\"yaxis\":{\"backgroundcolor\":\"#E5ECF6\",\"gridcolor\":\"white\",\"linecolor\":\"white\",\"showbackground\":true,\"ticks\":\"\",\"zerolinecolor\":\"white\",\"gridwidth\":2},\"zaxis\":{\"backgroundcolor\":\"#E5ECF6\",\"gridcolor\":\"white\",\"linecolor\":\"white\",\"showbackground\":true,\"ticks\":\"\",\"zerolinecolor\":\"white\",\"gridwidth\":2}},\"shapedefaults\":{\"line\":{\"color\":\"#2a3f5f\"}},\"annotationdefaults\":{\"arrowcolor\":\"#2a3f5f\",\"arrowhead\":0,\"arrowwidth\":1},\"geo\":{\"bgcolor\":\"white\",\"landcolor\":\"#E5ECF6\",\"subunitcolor\":\"white\",\"showland\":true,\"showlakes\":true,\"lakecolor\":\"white\"},\"title\":{\"x\":0.05},\"mapbox\":{\"style\":\"light\"}}},\"title\":{\"text\":\"Q-Q Plot\"},\"xaxis\":{\"title\":{\"text\":\"Theoretical Quantiles\"}},\"yaxis\":{\"title\":{\"text\":\"Sample Quantiles\"}}},                        {\"responsive\": true}                    ).then(function(){\n",
              "                            \n",
              "var gd = document.getElementById('f2d1a7a0-394b-42f5-9ed6-f8d34238d943');\n",
              "var x = new MutationObserver(function (mutations, observer) {{\n",
              "        var display = window.getComputedStyle(gd).display;\n",
              "        if (!display || display === 'none') {{\n",
              "            console.log([gd, 'removed!']);\n",
              "            Plotly.purge(gd);\n",
              "            observer.disconnect();\n",
              "        }}\n",
              "}});\n",
              "\n",
              "// Listen for the removal of the full notebook cells\n",
              "var notebookContainer = gd.closest('#notebook-container');\n",
              "if (notebookContainer) {{\n",
              "    x.observe(notebookContainer, {childList: true});\n",
              "}}\n",
              "\n",
              "// Listen for the clearing of the current output cell\n",
              "var outputEl = gd.closest('.output');\n",
              "if (outputEl) {{\n",
              "    x.observe(outputEl, {childList: true});\n",
              "}}\n",
              "\n",
              "                        })                };                            </script>        </div>\n",
              "</body>\n",
              "</html>"
            ]
          },
          "metadata": {}
        },
        {
          "output_type": "display_data",
          "data": {
            "text/html": [
              "<html>\n",
              "<head><meta charset=\"utf-8\" /></head>\n",
              "<body>\n",
              "    <div>            <script src=\"https://cdnjs.cloudflare.com/ajax/libs/mathjax/2.7.5/MathJax.js?config=TeX-AMS-MML_SVG\"></script><script type=\"text/javascript\">if (window.MathJax && window.MathJax.Hub && window.MathJax.Hub.Config) {window.MathJax.Hub.Config({SVG: {font: \"STIX-Web\"}});}</script>                <script type=\"text/javascript\">window.PlotlyConfig = {MathJaxConfig: 'local'};</script>\n",
              "        <script charset=\"utf-8\" src=\"https://cdn.plot.ly/plotly-2.24.1.min.js\"></script>                <div id=\"521860a6-26cc-445e-9409-67f6053c014a\" class=\"plotly-graph-div\" style=\"height:525px; width:100%;\"></div>            <script type=\"text/javascript\">                                    window.PLOTLYENV=window.PLOTLYENV || {};                                    if (document.getElementById(\"521860a6-26cc-445e-9409-67f6053c014a\")) {                    Plotly.newPlot(                        \"521860a6-26cc-445e-9409-67f6053c014a\",                        [{\"marker\":{\"color\":\"blue\",\"line\":{\"color\":\"black\",\"width\":1}},\"nbinsx\":30,\"x\":[-5.824182223143449,-0.3104150563986181,-1.4831444539423728,-2.8795073985963207,-3.0604338561896895,-3.738514890809423,-0.18620246269735574,-0.07455941895799612,-3.8949269575252004,-3.953105327778829,-1.0052381753916606,-0.5955980368331701,13.544332841672087,-1.2442898925263073,-1.0251194188456054,3.0419885590704645,-1.6706748797003321,4.5464262759796235,10.381840864019367,-3.8534087309865566,-1.9379302690704883,-0.36837088899169856,1.4520451877348215,-1.6595909314516355,-3.8819494486284363,-2.201232808334577,-3.0744355714100884,0.10462492577615912,1.8156704225926745,-1.0660125485428757,0.44382569163710883,-1.864797927618266,-11.308287552096122,2.8221391396432907,2.0926519651210214,1.8748092553912201,2.632720018057448,-0.9488694076367246,3.04215494097377,-1.8828190733741081,5.741490700954287,-3.351699389696158,8.79714825616476,-0.2919454424311496,-5.004359440300345,-2.10098387175165,-0.830525076732334,-2.3935151063794855,-0.8534002240676308,-6.361839432323457,-3.225901058901705,0.45541175820705604,-0.8399653521456436,0.1616951316842048,3.3586837594696846,-2.1313467987358123,-0.7709248065459988,-2.46144569525077,-1.6943546398292995,5.3919479769374234,4.186859814257961,6.137428233584693,-0.6544715128071701,4.3814824706386215,3.8258082191282625,6.005122734343097,-7.709337404301968,-1.0505127975134556,1.6699113536168468,0.9795946665150446,-1.0544494041415042,-4.45743626964363,-0.2960301354102164,6.139003102600437,-3.524115804859303,-1.1304051221073195,-1.3657754059523484,8.594409851080016,-8.075224404818366,-1.946602280954984,-0.3885527232993624,4.02828663673905,0.9515021370345096,0.34924673779188353,-4.008268674514827,-0.7270332723215915,-3.126872560000102,-1.0185025538242556,-3.683708520830759,-2.955368332911256,-2.9533413901867682,4.884515723960602,-0.4879913284011046,1.1924250661806184,15.10404825677022,2.258767548585066,25.093870652328476,18.563004358956746,-4.199058127262523,1.0579871598331216,-0.1497790005937354,-3.7210673409366777],\"type\":\"histogram\"}],                        {\"template\":{\"data\":{\"histogram2dcontour\":[{\"type\":\"histogram2dcontour\",\"colorbar\":{\"outlinewidth\":0,\"ticks\":\"\"},\"colorscale\":[[0.0,\"#0d0887\"],[0.1111111111111111,\"#46039f\"],[0.2222222222222222,\"#7201a8\"],[0.3333333333333333,\"#9c179e\"],[0.4444444444444444,\"#bd3786\"],[0.5555555555555556,\"#d8576b\"],[0.6666666666666666,\"#ed7953\"],[0.7777777777777778,\"#fb9f3a\"],[0.8888888888888888,\"#fdca26\"],[1.0,\"#f0f921\"]]}],\"choropleth\":[{\"type\":\"choropleth\",\"colorbar\":{\"outlinewidth\":0,\"ticks\":\"\"}}],\"histogram2d\":[{\"type\":\"histogram2d\",\"colorbar\":{\"outlinewidth\":0,\"ticks\":\"\"},\"colorscale\":[[0.0,\"#0d0887\"],[0.1111111111111111,\"#46039f\"],[0.2222222222222222,\"#7201a8\"],[0.3333333333333333,\"#9c179e\"],[0.4444444444444444,\"#bd3786\"],[0.5555555555555556,\"#d8576b\"],[0.6666666666666666,\"#ed7953\"],[0.7777777777777778,\"#fb9f3a\"],[0.8888888888888888,\"#fdca26\"],[1.0,\"#f0f921\"]]}],\"heatmap\":[{\"type\":\"heatmap\",\"colorbar\":{\"outlinewidth\":0,\"ticks\":\"\"},\"colorscale\":[[0.0,\"#0d0887\"],[0.1111111111111111,\"#46039f\"],[0.2222222222222222,\"#7201a8\"],[0.3333333333333333,\"#9c179e\"],[0.4444444444444444,\"#bd3786\"],[0.5555555555555556,\"#d8576b\"],[0.6666666666666666,\"#ed7953\"],[0.7777777777777778,\"#fb9f3a\"],[0.8888888888888888,\"#fdca26\"],[1.0,\"#f0f921\"]]}],\"heatmapgl\":[{\"type\":\"heatmapgl\",\"colorbar\":{\"outlinewidth\":0,\"ticks\":\"\"},\"colorscale\":[[0.0,\"#0d0887\"],[0.1111111111111111,\"#46039f\"],[0.2222222222222222,\"#7201a8\"],[0.3333333333333333,\"#9c179e\"],[0.4444444444444444,\"#bd3786\"],[0.5555555555555556,\"#d8576b\"],[0.6666666666666666,\"#ed7953\"],[0.7777777777777778,\"#fb9f3a\"],[0.8888888888888888,\"#fdca26\"],[1.0,\"#f0f921\"]]}],\"contourcarpet\":[{\"type\":\"contourcarpet\",\"colorbar\":{\"outlinewidth\":0,\"ticks\":\"\"}}],\"contour\":[{\"type\":\"contour\",\"colorbar\":{\"outlinewidth\":0,\"ticks\":\"\"},\"colorscale\":[[0.0,\"#0d0887\"],[0.1111111111111111,\"#46039f\"],[0.2222222222222222,\"#7201a8\"],[0.3333333333333333,\"#9c179e\"],[0.4444444444444444,\"#bd3786\"],[0.5555555555555556,\"#d8576b\"],[0.6666666666666666,\"#ed7953\"],[0.7777777777777778,\"#fb9f3a\"],[0.8888888888888888,\"#fdca26\"],[1.0,\"#f0f921\"]]}],\"surface\":[{\"type\":\"surface\",\"colorbar\":{\"outlinewidth\":0,\"ticks\":\"\"},\"colorscale\":[[0.0,\"#0d0887\"],[0.1111111111111111,\"#46039f\"],[0.2222222222222222,\"#7201a8\"],[0.3333333333333333,\"#9c179e\"],[0.4444444444444444,\"#bd3786\"],[0.5555555555555556,\"#d8576b\"],[0.6666666666666666,\"#ed7953\"],[0.7777777777777778,\"#fb9f3a\"],[0.8888888888888888,\"#fdca26\"],[1.0,\"#f0f921\"]]}],\"mesh3d\":[{\"type\":\"mesh3d\",\"colorbar\":{\"outlinewidth\":0,\"ticks\":\"\"}}],\"scatter\":[{\"fillpattern\":{\"fillmode\":\"overlay\",\"size\":10,\"solidity\":0.2},\"type\":\"scatter\"}],\"parcoords\":[{\"type\":\"parcoords\",\"line\":{\"colorbar\":{\"outlinewidth\":0,\"ticks\":\"\"}}}],\"scatterpolargl\":[{\"type\":\"scatterpolargl\",\"marker\":{\"colorbar\":{\"outlinewidth\":0,\"ticks\":\"\"}}}],\"bar\":[{\"error_x\":{\"color\":\"#2a3f5f\"},\"error_y\":{\"color\":\"#2a3f5f\"},\"marker\":{\"line\":{\"color\":\"#E5ECF6\",\"width\":0.5},\"pattern\":{\"fillmode\":\"overlay\",\"size\":10,\"solidity\":0.2}},\"type\":\"bar\"}],\"scattergeo\":[{\"type\":\"scattergeo\",\"marker\":{\"colorbar\":{\"outlinewidth\":0,\"ticks\":\"\"}}}],\"scatterpolar\":[{\"type\":\"scatterpolar\",\"marker\":{\"colorbar\":{\"outlinewidth\":0,\"ticks\":\"\"}}}],\"histogram\":[{\"marker\":{\"pattern\":{\"fillmode\":\"overlay\",\"size\":10,\"solidity\":0.2}},\"type\":\"histogram\"}],\"scattergl\":[{\"type\":\"scattergl\",\"marker\":{\"colorbar\":{\"outlinewidth\":0,\"ticks\":\"\"}}}],\"scatter3d\":[{\"type\":\"scatter3d\",\"line\":{\"colorbar\":{\"outlinewidth\":0,\"ticks\":\"\"}},\"marker\":{\"colorbar\":{\"outlinewidth\":0,\"ticks\":\"\"}}}],\"scattermapbox\":[{\"type\":\"scattermapbox\",\"marker\":{\"colorbar\":{\"outlinewidth\":0,\"ticks\":\"\"}}}],\"scatterternary\":[{\"type\":\"scatterternary\",\"marker\":{\"colorbar\":{\"outlinewidth\":0,\"ticks\":\"\"}}}],\"scattercarpet\":[{\"type\":\"scattercarpet\",\"marker\":{\"colorbar\":{\"outlinewidth\":0,\"ticks\":\"\"}}}],\"carpet\":[{\"aaxis\":{\"endlinecolor\":\"#2a3f5f\",\"gridcolor\":\"white\",\"linecolor\":\"white\",\"minorgridcolor\":\"white\",\"startlinecolor\":\"#2a3f5f\"},\"baxis\":{\"endlinecolor\":\"#2a3f5f\",\"gridcolor\":\"white\",\"linecolor\":\"white\",\"minorgridcolor\":\"white\",\"startlinecolor\":\"#2a3f5f\"},\"type\":\"carpet\"}],\"table\":[{\"cells\":{\"fill\":{\"color\":\"#EBF0F8\"},\"line\":{\"color\":\"white\"}},\"header\":{\"fill\":{\"color\":\"#C8D4E3\"},\"line\":{\"color\":\"white\"}},\"type\":\"table\"}],\"barpolar\":[{\"marker\":{\"line\":{\"color\":\"#E5ECF6\",\"width\":0.5},\"pattern\":{\"fillmode\":\"overlay\",\"size\":10,\"solidity\":0.2}},\"type\":\"barpolar\"}],\"pie\":[{\"automargin\":true,\"type\":\"pie\"}]},\"layout\":{\"autotypenumbers\":\"strict\",\"colorway\":[\"#636efa\",\"#EF553B\",\"#00cc96\",\"#ab63fa\",\"#FFA15A\",\"#19d3f3\",\"#FF6692\",\"#B6E880\",\"#FF97FF\",\"#FECB52\"],\"font\":{\"color\":\"#2a3f5f\"},\"hovermode\":\"closest\",\"hoverlabel\":{\"align\":\"left\"},\"paper_bgcolor\":\"white\",\"plot_bgcolor\":\"#E5ECF6\",\"polar\":{\"bgcolor\":\"#E5ECF6\",\"angularaxis\":{\"gridcolor\":\"white\",\"linecolor\":\"white\",\"ticks\":\"\"},\"radialaxis\":{\"gridcolor\":\"white\",\"linecolor\":\"white\",\"ticks\":\"\"}},\"ternary\":{\"bgcolor\":\"#E5ECF6\",\"aaxis\":{\"gridcolor\":\"white\",\"linecolor\":\"white\",\"ticks\":\"\"},\"baxis\":{\"gridcolor\":\"white\",\"linecolor\":\"white\",\"ticks\":\"\"},\"caxis\":{\"gridcolor\":\"white\",\"linecolor\":\"white\",\"ticks\":\"\"}},\"coloraxis\":{\"colorbar\":{\"outlinewidth\":0,\"ticks\":\"\"}},\"colorscale\":{\"sequential\":[[0.0,\"#0d0887\"],[0.1111111111111111,\"#46039f\"],[0.2222222222222222,\"#7201a8\"],[0.3333333333333333,\"#9c179e\"],[0.4444444444444444,\"#bd3786\"],[0.5555555555555556,\"#d8576b\"],[0.6666666666666666,\"#ed7953\"],[0.7777777777777778,\"#fb9f3a\"],[0.8888888888888888,\"#fdca26\"],[1.0,\"#f0f921\"]],\"sequentialminus\":[[0.0,\"#0d0887\"],[0.1111111111111111,\"#46039f\"],[0.2222222222222222,\"#7201a8\"],[0.3333333333333333,\"#9c179e\"],[0.4444444444444444,\"#bd3786\"],[0.5555555555555556,\"#d8576b\"],[0.6666666666666666,\"#ed7953\"],[0.7777777777777778,\"#fb9f3a\"],[0.8888888888888888,\"#fdca26\"],[1.0,\"#f0f921\"]],\"diverging\":[[0,\"#8e0152\"],[0.1,\"#c51b7d\"],[0.2,\"#de77ae\"],[0.3,\"#f1b6da\"],[0.4,\"#fde0ef\"],[0.5,\"#f7f7f7\"],[0.6,\"#e6f5d0\"],[0.7,\"#b8e186\"],[0.8,\"#7fbc41\"],[0.9,\"#4d9221\"],[1,\"#276419\"]]},\"xaxis\":{\"gridcolor\":\"white\",\"linecolor\":\"white\",\"ticks\":\"\",\"title\":{\"standoff\":15},\"zerolinecolor\":\"white\",\"automargin\":true,\"zerolinewidth\":2},\"yaxis\":{\"gridcolor\":\"white\",\"linecolor\":\"white\",\"ticks\":\"\",\"title\":{\"standoff\":15},\"zerolinecolor\":\"white\",\"automargin\":true,\"zerolinewidth\":2},\"scene\":{\"xaxis\":{\"backgroundcolor\":\"#E5ECF6\",\"gridcolor\":\"white\",\"linecolor\":\"white\",\"showbackground\":true,\"ticks\":\"\",\"zerolinecolor\":\"white\",\"gridwidth\":2},\"yaxis\":{\"backgroundcolor\":\"#E5ECF6\",\"gridcolor\":\"white\",\"linecolor\":\"white\",\"showbackground\":true,\"ticks\":\"\",\"zerolinecolor\":\"white\",\"gridwidth\":2},\"zaxis\":{\"backgroundcolor\":\"#E5ECF6\",\"gridcolor\":\"white\",\"linecolor\":\"white\",\"showbackground\":true,\"ticks\":\"\",\"zerolinecolor\":\"white\",\"gridwidth\":2}},\"shapedefaults\":{\"line\":{\"color\":\"#2a3f5f\"}},\"annotationdefaults\":{\"arrowcolor\":\"#2a3f5f\",\"arrowhead\":0,\"arrowwidth\":1},\"geo\":{\"bgcolor\":\"white\",\"landcolor\":\"#E5ECF6\",\"subunitcolor\":\"white\",\"showland\":true,\"showlakes\":true,\"lakecolor\":\"white\"},\"title\":{\"x\":0.05},\"mapbox\":{\"style\":\"light\"}}},\"title\":{\"text\":\"Histogram of Residuals\"},\"xaxis\":{\"title\":{\"text\":\"Residuals\"}},\"yaxis\":{\"title\":{\"text\":\"Frequency\"}}},                        {\"responsive\": true}                    ).then(function(){\n",
              "                            \n",
              "var gd = document.getElementById('521860a6-26cc-445e-9409-67f6053c014a');\n",
              "var x = new MutationObserver(function (mutations, observer) {{\n",
              "        var display = window.getComputedStyle(gd).display;\n",
              "        if (!display || display === 'none') {{\n",
              "            console.log([gd, 'removed!']);\n",
              "            Plotly.purge(gd);\n",
              "            observer.disconnect();\n",
              "        }}\n",
              "}});\n",
              "\n",
              "// Listen for the removal of the full notebook cells\n",
              "var notebookContainer = gd.closest('#notebook-container');\n",
              "if (notebookContainer) {{\n",
              "    x.observe(notebookContainer, {childList: true});\n",
              "}}\n",
              "\n",
              "// Listen for the clearing of the current output cell\n",
              "var outputEl = gd.closest('.output');\n",
              "if (outputEl) {{\n",
              "    x.observe(outputEl, {childList: true});\n",
              "}}\n",
              "\n",
              "                        })                };                            </script>        </div>\n",
              "</body>\n",
              "</html>"
            ]
          },
          "metadata": {}
        }
      ]
    },
    {
      "cell_type": "markdown",
      "source": [
        "I am removing three of the stuff with the highest collinearity and peforming the regression again."
      ],
      "metadata": {
        "id": "Rn1Gjr4IXvnE"
      }
    },
    {
      "cell_type": "markdown",
      "source": [
        "A VIF above a high means very high collinearity which means it could be redundant to the model"
      ],
      "metadata": {
        "id": "b_1Dxmc3WEIa"
      }
    },
    {
      "cell_type": "code",
      "source": [
        "meanings"
      ],
      "metadata": {
        "colab": {
          "base_uri": "https://localhost:8080/"
        },
        "id": "ZVHN7yB1wsuU",
        "outputId": "411875c8-05c2-48d6-b448-9d555853f833"
      },
      "execution_count": null,
      "outputs": [
        {
          "output_type": "execute_result",
          "data": {
            "text/plain": [
              "{'crim': 'Per capita crime rate by town',\n",
              " 'zn': 'Proportion of residential land zoned for large lots over 25,000 sq. ft.',\n",
              " 'indus': 'Proportion of non-retail business acres per town',\n",
              " 'chas': 'Charles River dummy variable (1 if the tract bounds river, 0 otherwise)',\n",
              " 'nox': 'Concentration of nitrogen oxides in the air (parts per 10 million)',\n",
              " 'rm': 'Average number of rooms per dwelling',\n",
              " 'age': 'Proportion of owner-occupied units built before 1940',\n",
              " 'dis': 'Weighted distances to Boston employment centers',\n",
              " 'rad': 'Index of accessibility to radial highways',\n",
              " 'tax': 'Property tax rate per $10,000',\n",
              " 'ptratio': 'Pupil-teacher ratio by town',\n",
              " 'b': '1000(Bk - 0.63)^2, where Bk is the proportion of Black residents by town',\n",
              " 'lstat': 'Percentage of lower status of the population',\n",
              " 'medv': 'Median value of owner-occupied homes in $1000s'}"
            ]
          },
          "metadata": {},
          "execution_count": 52
        }
      ]
    },
    {
      "cell_type": "code",
      "source": [
        "# Removing 'nox', 'rm', and 'ptratio' from all datasets\n",
        "boston = boston.drop(['nox', 'tax', 'ptratio'], axis=1)\n",
        "train_df = train_df.drop(['nox', 'tax', 'ptratio'], axis=1)\n",
        "test_df = test_df.drop(['nox', 'tax', 'ptratio'], axis=1)\n",
        "\n",
        "# Now we will start with the ML.\n",
        "X_train = train_df.drop('medv', axis=1)\n",
        "Y_train = train_df['medv']\n",
        "X_test = test_df.drop('medv', axis=1)\n",
        "Y_test = test_df['medv']\n"
      ],
      "metadata": {
        "id": "8BAALP7SxB6t"
      },
      "execution_count": null,
      "outputs": []
    },
    {
      "cell_type": "code",
      "source": [
        "model = LinearRegression()\n",
        "model.fit(X_train, Y_train)\n",
        "Y_pred = model.predict(X_test)\n",
        "mse = mean_squared_error(Y_test, Y_pred, squared=False)\n",
        "rmse = np.sqrt(mse)\n",
        "r2 = r2_score(Y_test, Y_pred)\n",
        "\n",
        "print(f'Mean Squared Error: {mse}')\n",
        "print(f'Root Mean Squared Error: {rmse}')\n",
        "print(f'R-squared: {r2}')\n",
        "print(model.coef_)\n",
        "print(model.intercept_)\n"
      ],
      "metadata": {
        "colab": {
          "base_uri": "https://localhost:8080/"
        },
        "id": "vneOEcKHcEdm",
        "outputId": "80ebf34c-9e3c-422b-f6df-21eb0c66c046"
      },
      "execution_count": null,
      "outputs": [
        {
          "output_type": "stream",
          "name": "stdout",
          "text": [
            "Mean Squared Error: 5.7336919422551835\n",
            "Root Mean Squared Error: 2.3945128820399324\n",
            "R-squared: 0.5517042504569836\n",
            "[-0.09875666 -0.11079264  5.4922113  -0.0260241  -1.12775    -0.03598849\n",
            "  0.01296547 -0.54536996]\n",
            "-1.7325803889204394\n"
          ]
        }
      ]
    },
    {
      "cell_type": "code",
      "source": [
        "from statsmodels.stats.outliers_influence import variance_inflation_factor\n",
        "\n",
        "# Calculating the VIF for each feature in the dataset\n",
        "def calculate_vif(X):\n",
        "    vif_data = pd.DataFrame()\n",
        "    vif_data[\"feature\"] = X.columns\n",
        "    vif_data[\"VIF\"] = [variance_inflation_factor(X.values, i) for i in range(X.shape[1])]\n",
        "    return vif_data\n",
        "\n",
        "# Computing the VIF for the predictors in the dataset\n",
        "vif_data = calculate_vif(X_train)\n",
        "\n",
        "# Displaying VIF values\n",
        "print(vif_data)"
      ],
      "metadata": {
        "colab": {
          "base_uri": "https://localhost:8080/"
        },
        "id": "ruIhG_y-cFtk",
        "outputId": "98ec5caf-5a27-4825-9f61-b823f86de0a2"
      },
      "execution_count": null,
      "outputs": [
        {
          "output_type": "stream",
          "name": "stdout",
          "text": [
            "  feature        VIF\n",
            "0    crim   1.962097\n",
            "1   indus   8.874474\n",
            "2      rm  38.989789\n",
            "3     age  19.099838\n",
            "4     dis  10.080819\n",
            "5     rad   4.867006\n",
            "6       b  17.802760\n",
            "7   lstat   8.277089\n"
          ]
        }
      ]
    },
    {
      "cell_type": "code",
      "source": [
        "import statsmodels.api as sm\n",
        "\n",
        "# Adding constant term for intercept\n",
        "X_train_const = sm.add_constant(X_train)\n",
        "\n",
        "# Fitting the OLS (Ordinary Least Squares) model\n",
        "model = sm.OLS(Y_train, X_train_const)\n",
        "results = model.fit()\n",
        "\n",
        "# Summary of the regression model (including p-values and significance of coefficients)\n",
        "print(results.summary())"
      ],
      "metadata": {
        "colab": {
          "base_uri": "https://localhost:8080/"
        },
        "id": "FLILsoaIfCa-",
        "outputId": "bb1be6f5-bf62-4c1a-e8bc-9c03695bc717"
      },
      "execution_count": null,
      "outputs": [
        {
          "output_type": "stream",
          "name": "stdout",
          "text": [
            "                            OLS Regression Results                            \n",
            "==============================================================================\n",
            "Dep. Variable:                   medv   R-squared:                       0.699\n",
            "Model:                            OLS   Adj. R-squared:                  0.693\n",
            "Method:                 Least Squares   F-statistic:                     114.6\n",
            "Date:                Wed, 18 Sep 2024   Prob (F-statistic):           4.90e-98\n",
            "Time:                        11:08:27   Log-Likelihood:                -1232.6\n",
            "No. Observations:                 404   AIC:                             2483.\n",
            "Df Residuals:                     395   BIC:                             2519.\n",
            "Df Model:                           8                                         \n",
            "Covariance Type:            nonrobust                                         \n",
            "==============================================================================\n",
            "                 coef    std err          t      P>|t|      [0.025      0.975]\n",
            "------------------------------------------------------------------------------\n",
            "const         -1.7326      4.247     -0.408      0.684     -10.082       6.617\n",
            "crim          -0.0988      0.038     -2.621      0.009      -0.173      -0.025\n",
            "indus         -0.1108      0.063     -1.747      0.081      -0.235       0.014\n",
            "rm             5.4922      0.489     11.223      0.000       4.530       6.454\n",
            "age           -0.0260      0.015     -1.699      0.090      -0.056       0.004\n",
            "dis           -1.1278      0.209     -5.390      0.000      -1.539      -0.716\n",
            "rad           -0.0360      0.045     -0.805      0.421      -0.124       0.052\n",
            "b              0.0130      0.003      4.027      0.000       0.007       0.019\n",
            "lstat         -0.5454      0.060     -9.075      0.000      -0.664      -0.427\n",
            "==============================================================================\n",
            "Omnibus:                      135.724   Durbin-Watson:                   2.100\n",
            "Prob(Omnibus):                  0.000   Jarque-Bera (JB):              592.294\n",
            "Skew:                           1.409   Prob(JB):                    2.43e-129\n",
            "Kurtosis:                       8.219   Cond. No.                     6.20e+03\n",
            "==============================================================================\n",
            "\n",
            "Notes:\n",
            "[1] Standard Errors assume that the covariance matrix of the errors is correctly specified.\n",
            "[2] The condition number is large, 6.2e+03. This might indicate that there are\n",
            "strong multicollinearity or other numerical problems.\n"
          ]
        }
      ]
    },
    {
      "cell_type": "markdown",
      "source": [
        "As per me, I think this model is more suited as compared to previous model."
      ],
      "metadata": {
        "id": "w4nvQfCQfTCz"
      }
    },
    {
      "cell_type": "code",
      "source": [
        "boston = pd.read_csv('BostonHousing.csv')"
      ],
      "metadata": {
        "id": "iLBTGqGCDVoa"
      },
      "execution_count": null,
      "outputs": []
    },
    {
      "cell_type": "code",
      "source": [
        "# Removing 'nox', 'rm', and 'ptratio' from all datasets\n",
        "boston = boston.drop(['zn', 'chas', 'age', 'indus'], axis=1)\n",
        "boston.fillna(boston.mean(), inplace=True)"
      ],
      "metadata": {
        "id": "4ixWHlA9DYFa"
      },
      "execution_count": null,
      "outputs": []
    },
    {
      "cell_type": "code",
      "source": [
        "train_df, test_df = train_test_split(boston, test_size=0.2, random_state=42)\n",
        "\n",
        "print(train_df.shape)\n",
        "print(test_df.shape)\n"
      ],
      "metadata": {
        "colab": {
          "base_uri": "https://localhost:8080/"
        },
        "id": "JgFSB_CkEjHz",
        "outputId": "c2858dc5-5bf8-4799-a953-447fba3fe496"
      },
      "execution_count": null,
      "outputs": [
        {
          "output_type": "stream",
          "name": "stdout",
          "text": [
            "(404, 10)\n",
            "(102, 10)\n"
          ]
        }
      ]
    },
    {
      "cell_type": "code",
      "source": [
        "X_train = train_df.drop('medv', axis=1)\n",
        "Y_train = train_df['medv']\n",
        "X_test = test_df.drop('medv', axis=1)\n",
        "Y_test = test_df['medv']"
      ],
      "metadata": {
        "id": "0AJmEptUEr23"
      },
      "execution_count": null,
      "outputs": []
    },
    {
      "cell_type": "code",
      "source": [
        "model = LinearRegression()\n",
        "model.fit(X_train, Y_train)\n",
        "Y_pred = model.predict(X_test)\n",
        "mse = mean_squared_error(Y_test, Y_pred, squared=False)\n",
        "rmse = np.sqrt(mse)\n",
        "r2 = r2_score(Y_test, Y_pred)\n",
        "\n",
        "print(f'Mean Squared Error: {mse}')\n",
        "print(f'Root Mean Squared Error: {rmse}')\n",
        "print(f'R-squared: {r2}')\n",
        "print(model.coef_)\n",
        "print(model.intercept_)"
      ],
      "metadata": {
        "colab": {
          "base_uri": "https://localhost:8080/"
        },
        "id": "VLXWkPAqEu3Z",
        "outputId": "9f1f4276-3303-481e-bb4b-18da8b10b28f"
      },
      "execution_count": null,
      "outputs": [
        {
          "output_type": "stream",
          "name": "stdout",
          "text": [
            "Mean Squared Error: 5.087163280198671\n",
            "Root Mean Squared Error: 2.255474069945977\n",
            "R-squared: 0.6471035704945931\n",
            "[-1.14892180e-01 -1.64346834e+01  4.50961943e+00 -1.25765850e+00\n",
            "  2.55431953e-01 -8.50875996e-03 -1.04358588e+00  1.28367490e-02\n",
            " -5.24579234e-01]\n",
            "30.786332263306868\n"
          ]
        }
      ]
    },
    {
      "cell_type": "code",
      "source": [
        "from statsmodels.stats.outliers_influence import variance_inflation_factor\n",
        "\n",
        "# Calculating the VIF for each feature in the dataset\n",
        "def calculate_vif(X):\n",
        "    vif_data = pd.DataFrame()\n",
        "    vif_data[\"feature\"] = X.columns\n",
        "    vif_data[\"VIF\"] = [variance_inflation_factor(X.values, i) for i in range(X.shape[1])]\n",
        "    return vif_data\n",
        "\n",
        "# Computing the VIF for the predictors in the dataset\n",
        "vif_data = calculate_vif(X_train)\n",
        "\n",
        "# Displaying VIF values\n",
        "print(vif_data)"
      ],
      "metadata": {
        "colab": {
          "base_uri": "https://localhost:8080/"
        },
        "id": "IFkX_lh0Ex19",
        "outputId": "5b7304bb-8fca-46ee-b389-1a4dbd42a719"
      },
      "execution_count": null,
      "outputs": [
        {
          "output_type": "stream",
          "name": "stdout",
          "text": [
            "   feature        VIF\n",
            "0     crim   1.963691\n",
            "1      nox  60.632022\n",
            "2       rm  66.262887\n",
            "3      dis   8.045840\n",
            "4      rad  13.872295\n",
            "5      tax  47.731002\n",
            "6  ptratio  65.050817\n",
            "7        b  19.521364\n",
            "8    lstat   9.536076\n"
          ]
        }
      ]
    },
    {
      "cell_type": "code",
      "source": [
        "import statsmodels.api as sm\n",
        "\n",
        "# Adding constant term for intercept\n",
        "X_train_const = sm.add_constant(X_train)\n",
        "\n",
        "# Fitting the OLS (Ordinary Least Squares) model\n",
        "model = sm.OLS(Y_train, X_train_const)\n",
        "results = model.fit()\n",
        "\n",
        "# Summary of the regression model (including p-values and significance of coefficients)\n",
        "print(results.summary())"
      ],
      "metadata": {
        "id": "4cThojbLFEhF",
        "outputId": "ff087838-4bc8-4fe4-9b5c-94ae6cf68502",
        "colab": {
          "base_uri": "https://localhost:8080/"
        }
      },
      "execution_count": null,
      "outputs": [
        {
          "output_type": "stream",
          "name": "stdout",
          "text": [
            "                            OLS Regression Results                            \n",
            "==============================================================================\n",
            "Dep. Variable:                   medv   R-squared:                       0.742\n",
            "Model:                            OLS   Adj. R-squared:                  0.736\n",
            "Method:                 Least Squares   F-statistic:                     125.8\n",
            "Date:                Wed, 18 Sep 2024   Prob (F-statistic):          4.51e-110\n",
            "Time:                        11:08:28   Log-Likelihood:                -1201.5\n",
            "No. Observations:                 404   AIC:                             2423.\n",
            "Df Residuals:                     394   BIC:                             2463.\n",
            "Df Model:                           9                                         \n",
            "Covariance Type:            nonrobust                                         \n",
            "==============================================================================\n",
            "                 coef    std err          t      P>|t|      [0.025      0.975]\n",
            "------------------------------------------------------------------------------\n",
            "const         30.7863      5.737      5.367      0.000      19.508      42.065\n",
            "crim          -0.1149      0.035     -3.281      0.001      -0.184      -0.046\n",
            "nox          -16.4347      3.924     -4.188      0.000     -24.150      -8.719\n",
            "rm             4.5096      0.453      9.954      0.000       3.619       5.400\n",
            "dis           -1.2577      0.181     -6.939      0.000      -1.614      -0.901\n",
            "rad            0.2554      0.074      3.460      0.001       0.110       0.401\n",
            "tax           -0.0085      0.004     -2.229      0.026      -0.016      -0.001\n",
            "ptratio       -1.0436      0.134     -7.802      0.000      -1.307      -0.781\n",
            "b              0.0128      0.003      4.294      0.000       0.007       0.019\n",
            "lstat         -0.5246      0.053     -9.806      0.000      -0.630      -0.419\n",
            "==============================================================================\n",
            "Omnibus:                      148.443   Durbin-Watson:                   2.119\n",
            "Prob(Omnibus):                  0.000   Jarque-Bera (JB):              700.841\n",
            "Skew:                           1.529   Prob(JB):                    6.52e-153\n",
            "Kurtosis:                       8.682   Cond. No.                     1.45e+04\n",
            "==============================================================================\n",
            "\n",
            "Notes:\n",
            "[1] Standard Errors assume that the covariance matrix of the errors is correctly specified.\n",
            "[2] The condition number is large, 1.45e+04. This might indicate that there are\n",
            "strong multicollinearity or other numerical problems.\n"
          ]
        }
      ]
    },
    {
      "cell_type": "code",
      "source": [],
      "metadata": {
        "id": "nBuLEJx_FHND"
      },
      "execution_count": null,
      "outputs": []
    }
  ],
  "metadata": {
    "colab": {
      "provenance": []
    },
    "kernelspec": {
      "display_name": "Python 3",
      "name": "python3"
    },
    "language_info": {
      "name": "python"
    }
  },
  "nbformat": 4,
  "nbformat_minor": 0
}